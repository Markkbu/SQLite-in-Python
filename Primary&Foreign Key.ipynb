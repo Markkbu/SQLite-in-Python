{
 "cells": [
  {
   "cell_type": "code",
   "execution_count": 1,
   "id": "7f92c64d-6ca2-4da9-ad17-d870aaa6bf07",
   "metadata": {},
   "outputs": [],
   "source": [
    "import sqlite3\n",
    "import pandas as pd"
   ]
  },
  {
   "cell_type": "code",
   "execution_count": 2,
   "id": "d9f82f0a-8a7a-452d-9b85-3e27db7247fa",
   "metadata": {},
   "outputs": [
    {
     "name": "stdout",
     "output_type": "stream",
     "text": [
      "\u001b[33mWARNING: The directory '/home/jovyan/.cache/pip' or its parent directory is not owned or is not writable by the current user. The cache has been disabled. Check the permissions and owner of that directory. If executing pip with sudo, you should use sudo's -H flag.\u001b[0m\n",
      "Requirement already satisfied: pandasql in /opt/conda/lib/python3.9/site-packages (0.7.3)\n",
      "Requirement already satisfied: numpy in /opt/conda/lib/python3.9/site-packages (from pandasql) (1.19.5)\n",
      "Requirement already satisfied: sqlalchemy in /opt/conda/lib/python3.9/site-packages (from pandasql) (1.4.18)\n",
      "Requirement already satisfied: pandas in /opt/conda/lib/python3.9/site-packages (from pandasql) (1.2.4)\n",
      "Requirement already satisfied: python-dateutil>=2.7.3 in /opt/conda/lib/python3.9/site-packages (from pandas->pandasql) (2.8.1)\n",
      "Requirement already satisfied: pytz>=2017.3 in /opt/conda/lib/python3.9/site-packages (from pandas->pandasql) (2021.1)\n",
      "Requirement already satisfied: six>=1.5 in /opt/conda/lib/python3.9/site-packages (from python-dateutil>=2.7.3->pandas->pandasql) (1.16.0)\n",
      "Requirement already satisfied: greenlet!=0.4.17 in /opt/conda/lib/python3.9/site-packages (from sqlalchemy->pandasql) (1.1.0)\n",
      "\u001b[33mWARNING: Running pip as root will break packages and permissions. You should install packages reliably by using venv: https://pip.pypa.io/warnings/venv\u001b[0m\n"
     ]
    }
   ],
   "source": [
    "! pip install pandasql"
   ]
  },
  {
   "cell_type": "code",
   "execution_count": 3,
   "id": "4c9b5626-11a0-41b4-b09a-849560ffeffe",
   "metadata": {},
   "outputs": [],
   "source": [
    "conn = sqlite3.connect('students.db')\n",
    "conn.execute('pragma foreign_keys=ON')\n",
    "cur = conn.cursor()"
   ]
  },
  {
   "cell_type": "code",
   "execution_count": 4,
   "id": "85d3c30e-6525-4b8b-a7b4-63afd32a58a4",
   "metadata": {},
   "outputs": [],
   "source": [
    "def display_as_table(data, headers):\n",
    "    df = pd.DataFrame(data=data, columns=[i[0] for i in headers])\n",
    "    return df"
   ]
  },
  {
   "cell_type": "code",
   "execution_count": 5,
   "id": "9ed421f8-155b-4300-aa4f-10ee3bef48ef",
   "metadata": {},
   "outputs": [],
   "source": [
    "# A Primary Key satifies 3 conditions:\n",
    "#1) Any column (or collection of colums) that are unique\n",
    "#2) not Null\n",
    "#3)Each Table can have, at most,1 primary key (column)\n",
    "\n"
   ]
  },
  {
   "cell_type": "code",
   "execution_count": 6,
   "id": "c10652c8-cf57-4b06-99f2-db8f9514bac4",
   "metadata": {},
   "outputs": [],
   "source": [
    "#cur.execute(\"DROP TABLE SI\")"
   ]
  },
  {
   "cell_type": "code",
   "execution_count": 7,
   "id": "a2c4135e-6ea2-4e8c-b39e-68a2f875ead0",
   "metadata": {
    "tags": []
   },
   "outputs": [
    {
     "ename": "OperationalError",
     "evalue": "table SI already exists",
     "output_type": "error",
     "traceback": [
      "\u001b[0;31m---------------------------------------------------------------------------\u001b[0m",
      "\u001b[0;31mOperationalError\u001b[0m                          Traceback (most recent call last)",
      "\u001b[0;32m<ipython-input-7-c0f73933e9e9>\u001b[0m in \u001b[0;36m<module>\u001b[0;34m\u001b[0m\n\u001b[1;32m      8\u001b[0m );'''\n\u001b[1;32m      9\u001b[0m \u001b[0;34m\u001b[0m\u001b[0m\n\u001b[0;32m---> 10\u001b[0;31m \u001b[0mcur\u001b[0m\u001b[0;34m.\u001b[0m\u001b[0mexecute\u001b[0m\u001b[0;34m(\u001b[0m\u001b[0mstatement\u001b[0m\u001b[0;34m)\u001b[0m\u001b[0;34m\u001b[0m\u001b[0;34m\u001b[0m\u001b[0m\n\u001b[0m",
      "\u001b[0;31mOperationalError\u001b[0m: table SI already exists"
     ]
    }
   ],
   "source": [
    "statement = '''\n",
    "CREATE TABLE SI(\n",
    "Name varcchar(255) NOT NULL,\n",
    "GPA float CHECK (GPA <= 4 and GPA >=0),\n",
    "Major varchar(255) NOT NULL,\n",
    "Year integer DEFAULT 1,\n",
    "CONSTRAINT name_pk PRIMARY KEY (Name)\n",
    ");'''\n",
    "\n",
    "cur.execute(statement)"
   ]
  },
  {
   "cell_type": "code",
   "execution_count": 8,
   "id": "95ae87ff-2781-492d-b44e-9e4f0f1a2719",
   "metadata": {},
   "outputs": [
    {
     "data": {
      "text/html": [
       "<div>\n",
       "<style scoped>\n",
       "    .dataframe tbody tr th:only-of-type {\n",
       "        vertical-align: middle;\n",
       "    }\n",
       "\n",
       "    .dataframe tbody tr th {\n",
       "        vertical-align: top;\n",
       "    }\n",
       "\n",
       "    .dataframe thead th {\n",
       "        text-align: right;\n",
       "    }\n",
       "</style>\n",
       "<table border=\"1\" class=\"dataframe\">\n",
       "  <thead>\n",
       "    <tr style=\"text-align: right;\">\n",
       "      <th></th>\n",
       "      <th>Name</th>\n",
       "      <th>GPA</th>\n",
       "      <th>Major</th>\n",
       "      <th>Year</th>\n",
       "    </tr>\n",
       "  </thead>\n",
       "  <tbody>\n",
       "  </tbody>\n",
       "</table>\n",
       "</div>"
      ],
      "text/plain": [
       "Empty DataFrame\n",
       "Columns: [Name, GPA, Major, Year]\n",
       "Index: []"
      ]
     },
     "execution_count": 8,
     "metadata": {},
     "output_type": "execute_result"
    }
   ],
   "source": [
    "cur.execute(\"SELECT * FROM SI\")\n",
    "display_as_table(cur.fetchall(),cur.description)"
   ]
  },
  {
   "cell_type": "code",
   "execution_count": 9,
   "id": "00798ba5-1f9e-4112-99b8-d4db68d5157c",
   "metadata": {},
   "outputs": [
    {
     "data": {
      "text/plain": [
       "<sqlite3.Cursor at 0x7f004397eb90>"
      ]
     },
     "execution_count": 9,
     "metadata": {},
     "output_type": "execute_result"
    }
   ],
   "source": [
    "cur.execute(\"INSERT INTO SI VALUES ('Yoda', 3.5, 'Physics', 3)\")\n",
    "cur.execute(\"INSERT INTO SI VALUES ('Vader', 3.2, 'Math', 3)\")\n",
    "cur.execute(\"INSERT INTO SI VALUES ('Kyla', 3.9, 'Physics', 2)\")"
   ]
  },
  {
   "cell_type": "code",
   "execution_count": 10,
   "id": "6e5e44d0-0e90-42f8-a5c1-1d7f67537cea",
   "metadata": {},
   "outputs": [
    {
     "data": {
      "text/html": [
       "<div>\n",
       "<style scoped>\n",
       "    .dataframe tbody tr th:only-of-type {\n",
       "        vertical-align: middle;\n",
       "    }\n",
       "\n",
       "    .dataframe tbody tr th {\n",
       "        vertical-align: top;\n",
       "    }\n",
       "\n",
       "    .dataframe thead th {\n",
       "        text-align: right;\n",
       "    }\n",
       "</style>\n",
       "<table border=\"1\" class=\"dataframe\">\n",
       "  <thead>\n",
       "    <tr style=\"text-align: right;\">\n",
       "      <th></th>\n",
       "      <th>Name</th>\n",
       "      <th>GPA</th>\n",
       "      <th>Major</th>\n",
       "      <th>Year</th>\n",
       "    </tr>\n",
       "  </thead>\n",
       "  <tbody>\n",
       "    <tr>\n",
       "      <th>0</th>\n",
       "      <td>Yoda</td>\n",
       "      <td>3.5</td>\n",
       "      <td>Physics</td>\n",
       "      <td>3</td>\n",
       "    </tr>\n",
       "    <tr>\n",
       "      <th>1</th>\n",
       "      <td>Vader</td>\n",
       "      <td>3.2</td>\n",
       "      <td>Math</td>\n",
       "      <td>3</td>\n",
       "    </tr>\n",
       "    <tr>\n",
       "      <th>2</th>\n",
       "      <td>Kyla</td>\n",
       "      <td>3.9</td>\n",
       "      <td>Physics</td>\n",
       "      <td>2</td>\n",
       "    </tr>\n",
       "  </tbody>\n",
       "</table>\n",
       "</div>"
      ],
      "text/plain": [
       "    Name  GPA    Major  Year\n",
       "0   Yoda  3.5  Physics     3\n",
       "1  Vader  3.2     Math     3\n",
       "2   Kyla  3.9  Physics     2"
      ]
     },
     "execution_count": 10,
     "metadata": {},
     "output_type": "execute_result"
    }
   ],
   "source": [
    "cur.execute(\"SELECT * FROM SI\")\n",
    "display_as_table(cur.fetchall(),cur.description)"
   ]
  },
  {
   "cell_type": "code",
   "execution_count": 11,
   "id": "d9876097-0ae6-46d5-ad04-bb4fd58760be",
   "metadata": {
    "tags": []
   },
   "outputs": [
    {
     "ename": "IntegrityError",
     "evalue": "UNIQUE constraint failed: SI.Name",
     "output_type": "error",
     "traceback": [
      "\u001b[0;31m---------------------------------------------------------------------------\u001b[0m",
      "\u001b[0;31mIntegrityError\u001b[0m                            Traceback (most recent call last)",
      "\u001b[0;32m<ipython-input-11-006b8a8d0f64>\u001b[0m in \u001b[0;36m<module>\u001b[0;34m\u001b[0m\n\u001b[0;32m----> 1\u001b[0;31m \u001b[0mcur\u001b[0m\u001b[0;34m.\u001b[0m\u001b[0mexecute\u001b[0m\u001b[0;34m(\u001b[0m\u001b[0;34m\"INSERT INTO SI VALUES('Yoda', 3.2, 'CS', 2)\"\u001b[0m\u001b[0;34m)\u001b[0m\u001b[0;34m\u001b[0m\u001b[0;34m\u001b[0m\u001b[0m\n\u001b[0m",
      "\u001b[0;31mIntegrityError\u001b[0m: UNIQUE constraint failed: SI.Name"
     ]
    }
   ],
   "source": [
    "cur.execute(\"INSERT INTO SI VALUES('Yoda', 3.2, 'CS', 2)\")"
   ]
  },
  {
   "cell_type": "code",
   "execution_count": 12,
   "id": "4ee02c9b-2d96-4090-b788-1517112095b0",
   "metadata": {},
   "outputs": [
    {
     "ename": "IntegrityError",
     "evalue": "NOT NULL constraint failed: SI.Name",
     "output_type": "error",
     "traceback": [
      "\u001b[0;31m---------------------------------------------------------------------------\u001b[0m",
      "\u001b[0;31mIntegrityError\u001b[0m                            Traceback (most recent call last)",
      "\u001b[0;32m<ipython-input-12-ae71869f6e12>\u001b[0m in \u001b[0;36m<module>\u001b[0;34m\u001b[0m\n\u001b[0;32m----> 1\u001b[0;31m \u001b[0mcur\u001b[0m\u001b[0;34m.\u001b[0m\u001b[0mexecute\u001b[0m\u001b[0;34m(\u001b[0m\u001b[0;34m\"INSERT INTO SI (GPA, Major, Year) VALUES(3.2, 'CS', 2)\"\u001b[0m\u001b[0;34m)\u001b[0m\u001b[0;34m\u001b[0m\u001b[0;34m\u001b[0m\u001b[0m\n\u001b[0m",
      "\u001b[0;31mIntegrityError\u001b[0m: NOT NULL constraint failed: SI.Name"
     ]
    }
   ],
   "source": [
    "cur.execute(\"INSERT INTO SI (GPA, Major, Year) VALUES(3.2, 'CS', 2)\")"
   ]
  },
  {
   "cell_type": "code",
   "execution_count": null,
   "id": "0e82c7ef-6041-4a7f-9be9-5b3f1ad29d7f",
   "metadata": {},
   "outputs": [],
   "source": [
    "# Examples the one can't put info into the DB without a primary key"
   ]
  },
  {
   "cell_type": "code",
   "execution_count": null,
   "id": "c9a6b6d4-42d5-46b3-9335-ff0fb4d50f7f",
   "metadata": {},
   "outputs": [],
   "source": [
    "# You can also have MULTIPLE Key Columns ie \n",
    "# I could have used:  CONSTRAINT name_major_year_pk PRIMARY KEY (Name,Major, Year)\n",
    "\n",
    "#In that instance no one person can have identical name, major, AND year"
   ]
  },
  {
   "cell_type": "code",
   "execution_count": null,
   "id": "3b6db732-bf95-4bfe-8d2a-4e83efc2ca19",
   "metadata": {},
   "outputs": [],
   "source": [
    "#Auto-increpementing Integer Primary Key "
   ]
  },
  {
   "cell_type": "code",
   "execution_count": 13,
   "id": "7ff6e998-b670-4418-898a-fd77ea0a15fe",
   "metadata": {},
   "outputs": [
    {
     "data": {
      "text/plain": [
       "<sqlite3.Cursor at 0x7f004397eb90>"
      ]
     },
     "execution_count": 13,
     "metadata": {},
     "output_type": "execute_result"
    }
   ],
   "source": [
    "statement = '''\n",
    "CREATE TABLE SI_2 (\n",
    "Student_ID integer NOT NULL PRIMARY KEY AUTOINCREMENT,\n",
    "Name varcchar(255) NOT NULL,\n",
    "GPA float CHECK (GPA <= 4 and GPA >=0),\n",
    "Major varchar(255) NOT NULL,\n",
    "Year integer DEFAULT 1\n",
    ");'''\n",
    "\n",
    "cur.execute(statement)"
   ]
  },
  {
   "cell_type": "code",
   "execution_count": 14,
   "id": "2d4f530c-4796-44eb-b862-0cf1b71d29da",
   "metadata": {},
   "outputs": [
    {
     "data": {
      "text/plain": [
       "<sqlite3.Cursor at 0x7f004397eb90>"
      ]
     },
     "execution_count": 14,
     "metadata": {},
     "output_type": "execute_result"
    }
   ],
   "source": [
    "cur.execute(\"INSERT INTO SI_2 (Name, GPA, Major, Year) VALUES ('Yoda', 3.5, 'Physics', 3)\")\n",
    "cur.execute(\"INSERT INTO SI_2 (Name, GPA, Major, Year) VALUES ('Vader', 3.2, 'Math', 3)\")\n",
    "cur.execute(\"INSERT INTO SI_2 (Name, GPA, Major, Year) VALUES ('Kyla', 3.9, 'Physics', 2)\")"
   ]
  },
  {
   "cell_type": "code",
   "execution_count": 15,
   "id": "18f12e21-82bd-4138-9829-8fba7c6dcfcd",
   "metadata": {},
   "outputs": [
    {
     "data": {
      "text/html": [
       "<div>\n",
       "<style scoped>\n",
       "    .dataframe tbody tr th:only-of-type {\n",
       "        vertical-align: middle;\n",
       "    }\n",
       "\n",
       "    .dataframe tbody tr th {\n",
       "        vertical-align: top;\n",
       "    }\n",
       "\n",
       "    .dataframe thead th {\n",
       "        text-align: right;\n",
       "    }\n",
       "</style>\n",
       "<table border=\"1\" class=\"dataframe\">\n",
       "  <thead>\n",
       "    <tr style=\"text-align: right;\">\n",
       "      <th></th>\n",
       "      <th>Student_ID</th>\n",
       "      <th>Name</th>\n",
       "      <th>GPA</th>\n",
       "      <th>Major</th>\n",
       "      <th>Year</th>\n",
       "    </tr>\n",
       "  </thead>\n",
       "  <tbody>\n",
       "    <tr>\n",
       "      <th>0</th>\n",
       "      <td>1</td>\n",
       "      <td>Yoda</td>\n",
       "      <td>3.5</td>\n",
       "      <td>Physics</td>\n",
       "      <td>3</td>\n",
       "    </tr>\n",
       "    <tr>\n",
       "      <th>1</th>\n",
       "      <td>2</td>\n",
       "      <td>Vader</td>\n",
       "      <td>3.2</td>\n",
       "      <td>Math</td>\n",
       "      <td>3</td>\n",
       "    </tr>\n",
       "    <tr>\n",
       "      <th>2</th>\n",
       "      <td>3</td>\n",
       "      <td>Kyla</td>\n",
       "      <td>3.9</td>\n",
       "      <td>Physics</td>\n",
       "      <td>2</td>\n",
       "    </tr>\n",
       "  </tbody>\n",
       "</table>\n",
       "</div>"
      ],
      "text/plain": [
       "   Student_ID   Name  GPA    Major  Year\n",
       "0           1   Yoda  3.5  Physics     3\n",
       "1           2  Vader  3.2     Math     3\n",
       "2           3   Kyla  3.9  Physics     2"
      ]
     },
     "execution_count": 15,
     "metadata": {},
     "output_type": "execute_result"
    }
   ],
   "source": [
    "cur.execute(\"SELECT * FROM SI_2\")\n",
    "display_as_table(cur.fetchall(),cur.description)"
   ]
  },
  {
   "cell_type": "code",
   "execution_count": null,
   "id": "232e503c-7b1c-4d13-a9f8-ff2db0768160",
   "metadata": {},
   "outputs": [],
   "source": [
    "# Foreign Key"
   ]
  },
  {
   "cell_type": "code",
   "execution_count": 16,
   "id": "05e0c01b-6ca4-4168-bf49-548b99ea24fa",
   "metadata": {},
   "outputs": [
    {
     "data": {
      "text/plain": [
       "<sqlite3.Cursor at 0x7f004397eb90>"
      ]
     },
     "execution_count": 16,
     "metadata": {},
     "output_type": "execute_result"
    }
   ],
   "source": [
    "cur.execute('DROP TABLE Students')"
   ]
  },
  {
   "cell_type": "code",
   "execution_count": 17,
   "id": "92aa75ec-e989-4602-b061-7d039ca02c25",
   "metadata": {},
   "outputs": [
    {
     "ename": "OperationalError",
     "evalue": "no such table: Enrollment",
     "output_type": "error",
     "traceback": [
      "\u001b[0;31m---------------------------------------------------------------------------\u001b[0m",
      "\u001b[0;31mOperationalError\u001b[0m                          Traceback (most recent call last)",
      "\u001b[0;32m<ipython-input-17-1a7324ded263>\u001b[0m in \u001b[0;36m<module>\u001b[0;34m\u001b[0m\n\u001b[0;32m----> 1\u001b[0;31m \u001b[0mcur\u001b[0m\u001b[0;34m.\u001b[0m\u001b[0mexecute\u001b[0m \u001b[0;34m(\u001b[0m\u001b[0;34m\"DROP TABLE Enrollment\"\u001b[0m\u001b[0;34m)\u001b[0m\u001b[0;34m\u001b[0m\u001b[0;34m\u001b[0m\u001b[0m\n\u001b[0m",
      "\u001b[0;31mOperationalError\u001b[0m: no such table: Enrollment"
     ]
    }
   ],
   "source": [
    "cur.execute (\"DROP TABLE Enrollment\")"
   ]
  },
  {
   "cell_type": "code",
   "execution_count": 18,
   "id": "ffdb677b-4a31-47f1-a405-07cce018415d",
   "metadata": {
    "tags": []
   },
   "outputs": [
    {
     "data": {
      "text/plain": [
       "<sqlite3.Cursor at 0x7f004397eb90>"
      ]
     },
     "execution_count": 18,
     "metadata": {},
     "output_type": "execute_result"
    }
   ],
   "source": [
    "statement = '''\n",
    "CREATE TABLE Students(\n",
    "Name varcchar(255) NOT NULL,\n",
    "GPA float CHECK (GPA <= 4 and GPA >=0),\n",
    "Major varchar(255) NOT NULL,\n",
    "Year integer DEFAULT 1,\n",
    "CONSTRAINT name_pk PRIMARY KEY (Name)\n",
    ");'''\n",
    "\n",
    "cur.execute(statement)"
   ]
  },
  {
   "cell_type": "code",
   "execution_count": 19,
   "id": "140ec27e-64d6-40b3-a642-869f97eda74b",
   "metadata": {},
   "outputs": [
    {
     "data": {
      "text/plain": [
       "<sqlite3.Cursor at 0x7f004397eb90>"
      ]
     },
     "execution_count": 19,
     "metadata": {},
     "output_type": "execute_result"
    }
   ],
   "source": [
    "cur.execute(\"INSERT INTO Students VALUES ('Yoda', 3.5, 'Physics', 3)\")\n",
    "cur.execute(\"INSERT INTO Students VALUES ('Vader', 3.2, 'Math', 3)\")\n",
    "cur.execute(\"INSERT INTO Students VALUES ('Kylo', 3.9, 'Physics', 2)\")"
   ]
  },
  {
   "cell_type": "code",
   "execution_count": 20,
   "id": "d0949b75-7ddf-4a06-bafe-d713a83c354b",
   "metadata": {},
   "outputs": [
    {
     "data": {
      "text/html": [
       "<div>\n",
       "<style scoped>\n",
       "    .dataframe tbody tr th:only-of-type {\n",
       "        vertical-align: middle;\n",
       "    }\n",
       "\n",
       "    .dataframe tbody tr th {\n",
       "        vertical-align: top;\n",
       "    }\n",
       "\n",
       "    .dataframe thead th {\n",
       "        text-align: right;\n",
       "    }\n",
       "</style>\n",
       "<table border=\"1\" class=\"dataframe\">\n",
       "  <thead>\n",
       "    <tr style=\"text-align: right;\">\n",
       "      <th></th>\n",
       "      <th>Name</th>\n",
       "      <th>GPA</th>\n",
       "      <th>Major</th>\n",
       "      <th>Year</th>\n",
       "    </tr>\n",
       "  </thead>\n",
       "  <tbody>\n",
       "    <tr>\n",
       "      <th>0</th>\n",
       "      <td>Yoda</td>\n",
       "      <td>3.5</td>\n",
       "      <td>Physics</td>\n",
       "      <td>3</td>\n",
       "    </tr>\n",
       "    <tr>\n",
       "      <th>1</th>\n",
       "      <td>Vader</td>\n",
       "      <td>3.2</td>\n",
       "      <td>Math</td>\n",
       "      <td>3</td>\n",
       "    </tr>\n",
       "    <tr>\n",
       "      <th>2</th>\n",
       "      <td>Kylo</td>\n",
       "      <td>3.9</td>\n",
       "      <td>Physics</td>\n",
       "      <td>2</td>\n",
       "    </tr>\n",
       "  </tbody>\n",
       "</table>\n",
       "</div>"
      ],
      "text/plain": [
       "    Name  GPA    Major  Year\n",
       "0   Yoda  3.5  Physics     3\n",
       "1  Vader  3.2     Math     3\n",
       "2   Kylo  3.9  Physics     2"
      ]
     },
     "execution_count": 20,
     "metadata": {},
     "output_type": "execute_result"
    }
   ],
   "source": [
    "cur.execute(\"SELECT * FROM Students\")\n",
    "display_as_table(cur.fetchall(), cur.description)"
   ]
  },
  {
   "cell_type": "code",
   "execution_count": 21,
   "id": "3796fb8b-ab18-427b-b384-b11d7d8edc61",
   "metadata": {
    "tags": []
   },
   "outputs": [
    {
     "data": {
      "text/plain": [
       "<sqlite3.Cursor at 0x7f004397eb90>"
      ]
     },
     "execution_count": 21,
     "metadata": {},
     "output_type": "execute_result"
    }
   ],
   "source": [
    "# create Enrollment table\n",
    "statement = '''\n",
    "CREATE TABLE Enrollment (\n",
    "CourseName varchar(255) NOT NULL,\n",
    "StudentName varchar(255) NOT NULL,\n",
    "FOREIGN KEY (StudentName) REFERENCES Students(Name)\n",
    ");'''\n",
    "cur.execute(statement)"
   ]
  },
  {
   "cell_type": "code",
   "execution_count": 22,
   "id": "1bb80754-9ca6-42ae-9b2b-b50c3167ad7d",
   "metadata": {},
   "outputs": [
    {
     "data": {
      "text/plain": [
       "<sqlite3.Cursor at 0x7f004397eb90>"
      ]
     },
     "execution_count": 22,
     "metadata": {},
     "output_type": "execute_result"
    }
   ],
   "source": [
    "cur.execute(\"INSERT INTO ENROLLMENT VALUES ('Thermo', 'Yoda')\")\n",
    "cur.execute(\"INSERT INTO ENROLLMENT VALUES ('Thermo', 'Kylo')\")\n",
    "cur.execute(\"INSERT INTO ENROLLMENT VALUES ('Calc', 'Vader')\")\n"
   ]
  },
  {
   "cell_type": "code",
   "execution_count": 23,
   "id": "c8c33214-1eb6-4504-8593-36beaecc26d1",
   "metadata": {
    "tags": []
   },
   "outputs": [
    {
     "data": {
      "text/html": [
       "<div>\n",
       "<style scoped>\n",
       "    .dataframe tbody tr th:only-of-type {\n",
       "        vertical-align: middle;\n",
       "    }\n",
       "\n",
       "    .dataframe tbody tr th {\n",
       "        vertical-align: top;\n",
       "    }\n",
       "\n",
       "    .dataframe thead th {\n",
       "        text-align: right;\n",
       "    }\n",
       "</style>\n",
       "<table border=\"1\" class=\"dataframe\">\n",
       "  <thead>\n",
       "    <tr style=\"text-align: right;\">\n",
       "      <th></th>\n",
       "      <th>CourseName</th>\n",
       "      <th>StudentName</th>\n",
       "    </tr>\n",
       "  </thead>\n",
       "  <tbody>\n",
       "    <tr>\n",
       "      <th>0</th>\n",
       "      <td>Thermo</td>\n",
       "      <td>Yoda</td>\n",
       "    </tr>\n",
       "    <tr>\n",
       "      <th>1</th>\n",
       "      <td>Thermo</td>\n",
       "      <td>Kylo</td>\n",
       "    </tr>\n",
       "    <tr>\n",
       "      <th>2</th>\n",
       "      <td>Calc</td>\n",
       "      <td>Vader</td>\n",
       "    </tr>\n",
       "  </tbody>\n",
       "</table>\n",
       "</div>"
      ],
      "text/plain": [
       "  CourseName StudentName\n",
       "0     Thermo        Yoda\n",
       "1     Thermo        Kylo\n",
       "2       Calc       Vader"
      ]
     },
     "execution_count": 23,
     "metadata": {},
     "output_type": "execute_result"
    }
   ],
   "source": [
    "cur.execute(\"SELECT * FROM Enrollment\")\n",
    "display_as_table(cur.fetchall(), cur.description)"
   ]
  },
  {
   "cell_type": "code",
   "execution_count": null,
   "id": "f6ddff60-0f58-42f9-bebe-832216b8fc28",
   "metadata": {},
   "outputs": [],
   "source": [
    "#Should not be allowed : Adding Student to Enrollment table who does not exist"
   ]
  },
  {
   "cell_type": "code",
   "execution_count": 24,
   "id": "7d88c52a-6922-4053-a3d1-9cdae7595ab0",
   "metadata": {},
   "outputs": [
    {
     "ename": "IntegrityError",
     "evalue": "FOREIGN KEY constraint failed",
     "output_type": "error",
     "traceback": [
      "\u001b[0;31m---------------------------------------------------------------------------\u001b[0m",
      "\u001b[0;31mIntegrityError\u001b[0m                            Traceback (most recent call last)",
      "\u001b[0;32m<ipython-input-24-2bf076f8ae00>\u001b[0m in \u001b[0;36m<module>\u001b[0;34m\u001b[0m\n\u001b[0;32m----> 1\u001b[0;31m \u001b[0mcur\u001b[0m\u001b[0;34m.\u001b[0m\u001b[0mexecute\u001b[0m\u001b[0;34m(\u001b[0m\u001b[0;34m\"INSERT INTO Enrollment VALUES ('Calc', 'Jim')\"\u001b[0m\u001b[0;34m)\u001b[0m\u001b[0;34m\u001b[0m\u001b[0;34m\u001b[0m\u001b[0m\n\u001b[0m",
      "\u001b[0;31mIntegrityError\u001b[0m: FOREIGN KEY constraint failed"
     ]
    }
   ],
   "source": [
    "cur.execute(\"INSERT INTO Enrollment VALUES ('Calc', 'Jim')\")"
   ]
  },
  {
   "cell_type": "code",
   "execution_count": null,
   "id": "41da005b-7156-404d-a1ab-33787f48d74e",
   "metadata": {},
   "outputs": [],
   "source": [
    "cur.execute(\"SELECT * FROM Enrollment\")\n",
    "display_as_table(cur.fetchall(), cur.description)"
   ]
  },
  {
   "cell_type": "code",
   "execution_count": null,
   "id": "21a889cd-4925-4404-8ed2-e5503eb2bf02",
   "metadata": {},
   "outputs": [],
   "source": [
    "#Should not be allowed : Delete a student from Students if it leaves"
   ]
  },
  {
   "cell_type": "code",
   "execution_count": 25,
   "id": "a17c6abf-0b62-4ff5-aaf6-4b404ec47ee9",
   "metadata": {
    "tags": []
   },
   "outputs": [
    {
     "ename": "IntegrityError",
     "evalue": "FOREIGN KEY constraint failed",
     "output_type": "error",
     "traceback": [
      "\u001b[0;31m---------------------------------------------------------------------------\u001b[0m",
      "\u001b[0;31mIntegrityError\u001b[0m                            Traceback (most recent call last)",
      "\u001b[0;32m<ipython-input-25-e44600304474>\u001b[0m in \u001b[0;36m<module>\u001b[0;34m\u001b[0m\n\u001b[0;32m----> 1\u001b[0;31m \u001b[0mcur\u001b[0m\u001b[0;34m.\u001b[0m\u001b[0mexecute\u001b[0m\u001b[0;34m(\u001b[0m\u001b[0;34m\"DELETE FROM Students WHERE Name = 'Kylo'\"\u001b[0m\u001b[0;34m)\u001b[0m\u001b[0;34m\u001b[0m\u001b[0;34m\u001b[0m\u001b[0m\n\u001b[0m",
      "\u001b[0;31mIntegrityError\u001b[0m: FOREIGN KEY constraint failed"
     ]
    }
   ],
   "source": [
    "cur.execute(\"DELETE FROM Students WHERE Name = 'Kylo'\")"
   ]
  },
  {
   "cell_type": "code",
   "execution_count": 26,
   "id": "a828d3e7-c759-4bfa-b3a1-e1bcd1762d03",
   "metadata": {},
   "outputs": [
    {
     "data": {
      "text/html": [
       "<div>\n",
       "<style scoped>\n",
       "    .dataframe tbody tr th:only-of-type {\n",
       "        vertical-align: middle;\n",
       "    }\n",
       "\n",
       "    .dataframe tbody tr th {\n",
       "        vertical-align: top;\n",
       "    }\n",
       "\n",
       "    .dataframe thead th {\n",
       "        text-align: right;\n",
       "    }\n",
       "</style>\n",
       "<table border=\"1\" class=\"dataframe\">\n",
       "  <thead>\n",
       "    <tr style=\"text-align: right;\">\n",
       "      <th></th>\n",
       "      <th>CourseName</th>\n",
       "      <th>StudentName</th>\n",
       "    </tr>\n",
       "  </thead>\n",
       "  <tbody>\n",
       "    <tr>\n",
       "      <th>0</th>\n",
       "      <td>Thermo</td>\n",
       "      <td>Yoda</td>\n",
       "    </tr>\n",
       "    <tr>\n",
       "      <th>1</th>\n",
       "      <td>Thermo</td>\n",
       "      <td>Kylo</td>\n",
       "    </tr>\n",
       "    <tr>\n",
       "      <th>2</th>\n",
       "      <td>Calc</td>\n",
       "      <td>Vader</td>\n",
       "    </tr>\n",
       "  </tbody>\n",
       "</table>\n",
       "</div>"
      ],
      "text/plain": [
       "  CourseName StudentName\n",
       "0     Thermo        Yoda\n",
       "1     Thermo        Kylo\n",
       "2       Calc       Vader"
      ]
     },
     "execution_count": 26,
     "metadata": {},
     "output_type": "execute_result"
    }
   ],
   "source": [
    "cur.execute(\"SELECT * FROM Enrollment\")\n",
    "display_as_table(cur.fetchall(), cur.description)"
   ]
  },
  {
   "cell_type": "code",
   "execution_count": 27,
   "id": "3cffb4dc-6ff0-463c-a4af-1b59f022e083",
   "metadata": {},
   "outputs": [
    {
     "data": {
      "text/html": [
       "<div>\n",
       "<style scoped>\n",
       "    .dataframe tbody tr th:only-of-type {\n",
       "        vertical-align: middle;\n",
       "    }\n",
       "\n",
       "    .dataframe tbody tr th {\n",
       "        vertical-align: top;\n",
       "    }\n",
       "\n",
       "    .dataframe thead th {\n",
       "        text-align: right;\n",
       "    }\n",
       "</style>\n",
       "<table border=\"1\" class=\"dataframe\">\n",
       "  <thead>\n",
       "    <tr style=\"text-align: right;\">\n",
       "      <th></th>\n",
       "      <th>Name</th>\n",
       "      <th>GPA</th>\n",
       "      <th>Major</th>\n",
       "      <th>Year</th>\n",
       "    </tr>\n",
       "  </thead>\n",
       "  <tbody>\n",
       "    <tr>\n",
       "      <th>0</th>\n",
       "      <td>Yoda</td>\n",
       "      <td>3.5</td>\n",
       "      <td>Physics</td>\n",
       "      <td>3</td>\n",
       "    </tr>\n",
       "    <tr>\n",
       "      <th>1</th>\n",
       "      <td>Vader</td>\n",
       "      <td>3.2</td>\n",
       "      <td>Math</td>\n",
       "      <td>3</td>\n",
       "    </tr>\n",
       "    <tr>\n",
       "      <th>2</th>\n",
       "      <td>Kylo</td>\n",
       "      <td>3.9</td>\n",
       "      <td>Physics</td>\n",
       "      <td>2</td>\n",
       "    </tr>\n",
       "  </tbody>\n",
       "</table>\n",
       "</div>"
      ],
      "text/plain": [
       "    Name  GPA    Major  Year\n",
       "0   Yoda  3.5  Physics     3\n",
       "1  Vader  3.2     Math     3\n",
       "2   Kylo  3.9  Physics     2"
      ]
     },
     "execution_count": 27,
     "metadata": {},
     "output_type": "execute_result"
    }
   ],
   "source": [
    "cur.execute(\"SELECT * FROM Students\")\n",
    "display_as_table(cur.fetchall(), cur.description)"
   ]
  },
  {
   "cell_type": "code",
   "execution_count": 28,
   "id": "f33dc034-fffc-4699-aa4d-e72f6ff49c5d",
   "metadata": {},
   "outputs": [],
   "source": [
    "#How to put them in?"
   ]
  },
  {
   "cell_type": "code",
   "execution_count": 29,
   "id": "bd480439-803a-4f55-8df1-f5707c59f1ee",
   "metadata": {},
   "outputs": [
    {
     "data": {
      "text/plain": [
       "<sqlite3.Cursor at 0x7f004397eb90>"
      ]
     },
     "execution_count": 29,
     "metadata": {},
     "output_type": "execute_result"
    }
   ],
   "source": [
    "cur.execute(\"INSERT INTO Students VALUES ('Rey', 3.2, 'Math', 2 )\")\n",
    "cur.execute(\"INSERT INTO Enrollment VALUES('Calc', 'Rey')\")"
   ]
  },
  {
   "cell_type": "code",
   "execution_count": 30,
   "id": "8bd4da4a-3172-4ee1-8ffa-b44ec2f2058a",
   "metadata": {},
   "outputs": [
    {
     "data": {
      "text/html": [
       "<div>\n",
       "<style scoped>\n",
       "    .dataframe tbody tr th:only-of-type {\n",
       "        vertical-align: middle;\n",
       "    }\n",
       "\n",
       "    .dataframe tbody tr th {\n",
       "        vertical-align: top;\n",
       "    }\n",
       "\n",
       "    .dataframe thead th {\n",
       "        text-align: right;\n",
       "    }\n",
       "</style>\n",
       "<table border=\"1\" class=\"dataframe\">\n",
       "  <thead>\n",
       "    <tr style=\"text-align: right;\">\n",
       "      <th></th>\n",
       "      <th>Name</th>\n",
       "      <th>GPA</th>\n",
       "      <th>Major</th>\n",
       "      <th>Year</th>\n",
       "    </tr>\n",
       "  </thead>\n",
       "  <tbody>\n",
       "    <tr>\n",
       "      <th>0</th>\n",
       "      <td>Yoda</td>\n",
       "      <td>3.5</td>\n",
       "      <td>Physics</td>\n",
       "      <td>3</td>\n",
       "    </tr>\n",
       "    <tr>\n",
       "      <th>1</th>\n",
       "      <td>Vader</td>\n",
       "      <td>3.2</td>\n",
       "      <td>Math</td>\n",
       "      <td>3</td>\n",
       "    </tr>\n",
       "    <tr>\n",
       "      <th>2</th>\n",
       "      <td>Kylo</td>\n",
       "      <td>3.9</td>\n",
       "      <td>Physics</td>\n",
       "      <td>2</td>\n",
       "    </tr>\n",
       "    <tr>\n",
       "      <th>3</th>\n",
       "      <td>Rey</td>\n",
       "      <td>3.2</td>\n",
       "      <td>Math</td>\n",
       "      <td>2</td>\n",
       "    </tr>\n",
       "  </tbody>\n",
       "</table>\n",
       "</div>"
      ],
      "text/plain": [
       "    Name  GPA    Major  Year\n",
       "0   Yoda  3.5  Physics     3\n",
       "1  Vader  3.2     Math     3\n",
       "2   Kylo  3.9  Physics     2\n",
       "3    Rey  3.2     Math     2"
      ]
     },
     "execution_count": 30,
     "metadata": {},
     "output_type": "execute_result"
    }
   ],
   "source": [
    "cur.execute(\"SELECT * FROM Students\")\n",
    "display_as_table(cur.fetchall(), cur.description)"
   ]
  },
  {
   "cell_type": "code",
   "execution_count": 31,
   "id": "7df1c8fd-66e2-417a-abde-e055da34b04b",
   "metadata": {},
   "outputs": [
    {
     "data": {
      "text/html": [
       "<div>\n",
       "<style scoped>\n",
       "    .dataframe tbody tr th:only-of-type {\n",
       "        vertical-align: middle;\n",
       "    }\n",
       "\n",
       "    .dataframe tbody tr th {\n",
       "        vertical-align: top;\n",
       "    }\n",
       "\n",
       "    .dataframe thead th {\n",
       "        text-align: right;\n",
       "    }\n",
       "</style>\n",
       "<table border=\"1\" class=\"dataframe\">\n",
       "  <thead>\n",
       "    <tr style=\"text-align: right;\">\n",
       "      <th></th>\n",
       "      <th>CourseName</th>\n",
       "      <th>StudentName</th>\n",
       "    </tr>\n",
       "  </thead>\n",
       "  <tbody>\n",
       "    <tr>\n",
       "      <th>0</th>\n",
       "      <td>Thermo</td>\n",
       "      <td>Yoda</td>\n",
       "    </tr>\n",
       "    <tr>\n",
       "      <th>1</th>\n",
       "      <td>Thermo</td>\n",
       "      <td>Kylo</td>\n",
       "    </tr>\n",
       "    <tr>\n",
       "      <th>2</th>\n",
       "      <td>Calc</td>\n",
       "      <td>Vader</td>\n",
       "    </tr>\n",
       "    <tr>\n",
       "      <th>3</th>\n",
       "      <td>Calc</td>\n",
       "      <td>Rey</td>\n",
       "    </tr>\n",
       "  </tbody>\n",
       "</table>\n",
       "</div>"
      ],
      "text/plain": [
       "  CourseName StudentName\n",
       "0     Thermo        Yoda\n",
       "1     Thermo        Kylo\n",
       "2       Calc       Vader\n",
       "3       Calc         Rey"
      ]
     },
     "execution_count": 31,
     "metadata": {},
     "output_type": "execute_result"
    }
   ],
   "source": [
    "cur.execute(\"SELECT * FROM Enrollment\")\n",
    "display_as_table(cur.fetchall(), cur.description)"
   ]
  },
  {
   "cell_type": "code",
   "execution_count": null,
   "id": "6b50e770-c394-4d65-bc26-3ca04eefd5f7",
   "metadata": {},
   "outputs": [],
   "source": []
  }
 ],
 "metadata": {
  "kernelspec": {
   "display_name": "Python 3",
   "language": "python",
   "name": "python3"
  },
  "language_info": {
   "codemirror_mode": {
    "name": "ipython",
    "version": 3
   },
   "file_extension": ".py",
   "mimetype": "text/x-python",
   "name": "python",
   "nbconvert_exporter": "python",
   "pygments_lexer": "ipython3",
   "version": "3.9.5"
  }
 },
 "nbformat": 4,
 "nbformat_minor": 5
}
