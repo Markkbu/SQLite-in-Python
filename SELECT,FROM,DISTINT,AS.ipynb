{
 "cells": [
  {
   "cell_type": "code",
   "execution_count": 1,
   "id": "fc1a6373-1b36-4bf2-82a4-6184e9d7302c",
   "metadata": {},
   "outputs": [
    {
     "name": "stdout",
     "output_type": "stream",
     "text": [
      "\u001b[33mWARNING: The directory '/home/jovyan/.cache/pip' or its parent directory is not owned or is not writable by the current user. The cache has been disabled. Check the permissions and owner of that directory. If executing pip with sudo, you should use sudo's -H flag.\u001b[0m\n",
      "Collecting pandasql\n",
      "  Downloading pandasql-0.7.3.tar.gz (26 kB)\n",
      "Requirement already satisfied: numpy in /opt/conda/lib/python3.9/site-packages (from pandasql) (1.19.5)\n",
      "Requirement already satisfied: pandas in /opt/conda/lib/python3.9/site-packages (from pandasql) (1.2.4)\n",
      "Requirement already satisfied: sqlalchemy in /opt/conda/lib/python3.9/site-packages (from pandasql) (1.4.18)\n",
      "Requirement already satisfied: python-dateutil>=2.7.3 in /opt/conda/lib/python3.9/site-packages (from pandas->pandasql) (2.8.1)\n",
      "Requirement already satisfied: pytz>=2017.3 in /opt/conda/lib/python3.9/site-packages (from pandas->pandasql) (2021.1)\n",
      "Requirement already satisfied: six>=1.5 in /opt/conda/lib/python3.9/site-packages (from python-dateutil>=2.7.3->pandas->pandasql) (1.16.0)\n",
      "Requirement already satisfied: greenlet!=0.4.17 in /opt/conda/lib/python3.9/site-packages (from sqlalchemy->pandasql) (1.1.0)\n",
      "Building wheels for collected packages: pandasql\n",
      "  Building wheel for pandasql (setup.py) ... \u001b[?25ldone\n",
      "\u001b[?25h  Created wheel for pandasql: filename=pandasql-0.7.3-py3-none-any.whl size=26818 sha256=1e9b51332058fe9c23644c60dd4f007e5174cd097742835c400b65b7c4a9768c\n",
      "  Stored in directory: /tmp/pip-ephem-wheel-cache-2kjym3tl/wheels/63/e8/ec/75b1df467ecf57b6ececb32cb16f4e86697cbfe55cb0c51f07\n",
      "Successfully built pandasql\n",
      "Installing collected packages: pandasql\n",
      "Successfully installed pandasql-0.7.3\n",
      "\u001b[33mWARNING: Running pip as root will break packages and permissions. You should install packages reliably by using venv: https://pip.pypa.io/warnings/venv\u001b[0m\n"
     ]
    }
   ],
   "source": [
    "! pip install pandasql"
   ]
  },
  {
   "cell_type": "code",
   "execution_count": 2,
   "id": "89fc7685-48b2-4149-8192-ecfebe203451",
   "metadata": {},
   "outputs": [],
   "source": [
    "import pandas as pd\n",
    "from pandasql import sqldf\n",
    "from random import choice, random"
   ]
  },
  {
   "cell_type": "code",
   "execution_count": 3,
   "id": "932d5d3e-bda2-44f5-8814-ff3ca084b6fd",
   "metadata": {},
   "outputs": [],
   "source": [
    "major_choices = ['English', 'Science', 'Mathematics', 'Physics', 'Computer Science', 'History', 'Chemistry', 'Biology', 'Art', 'Sociology']\n",
    "year_choice = [1, 2, 3, 4, 4]\n",
    "\n",
    "major_gpa_avg = {major : random() + 2.5 for major in major_choices}\n",
    "\n",
    "n = 100000\n",
    "\n",
    "names = [''.join([ choice('abcdefghijklmnopqrstuvwxyz') for _ in range(7) ]) for _ in range(n)]\n",
    "majors = [choice(major_choices) for _ in range(n)]\n",
    "gpas = [min(major_gpa_avg[m] + random()/4.0, 4.0) for m in majors]\n",
    "years = [choice(year_choice) for _ in range(n)]\n",
    "\n",
    "student_data = pd.DataFrame( data = zip(names, gpas, majors, years), columns=['Name', 'GPA', 'Major', 'Year'] )\n",
    "\n",
    "student_data['GPA'] = student_data.GPA.round(2)"
   ]
  },
  {
   "cell_type": "code",
   "execution_count": 6,
   "id": "a5192685-3003-45e7-a16d-75e242159aa0",
   "metadata": {},
   "outputs": [
    {
     "name": "stdout",
     "output_type": "stream",
     "text": [
      "       Name   GPA             Major  Year\n",
      "0   whatpdl  3.48           Biology     3\n",
      "1   lgffbuy  3.02  Computer Science     4\n",
      "2   kwpqrsr  3.41         Sociology     4\n",
      "3   rfdnvff  3.12               Art     4\n",
      "4   gcauyql  3.15           English     1\n",
      "5   mawrqsf  2.98           History     4\n",
      "6   kbceixw  3.57           Biology     1\n",
      "7   elwfzwk  3.48         Sociology     2\n",
      "8   jyinyoe  3.53           Physics     3\n",
      "9   vwivfmw  3.50           Physics     2\n",
      "10  tfhkcxt  3.51           Biology     4\n",
      "11  vrhndqu  3.68           Biology     2\n",
      "12  ytopxxe  3.25         Chemistry     4\n",
      "13  tqebtpd  3.08               Art     4\n",
      "14  klkjdhp  2.69           Science     4\n",
      "15  lvouteg  2.97           English     2\n",
      "16  zrmuwab  2.93  Computer Science     3\n",
      "17  dfzgkda  3.23               Art     2\n",
      "18  bqqhwrw  3.68           Physics     4\n",
      "19  rjzlpjx  3.12           English     4\n"
     ]
    }
   ],
   "source": [
    "selected_data = sqldf('SELECT * FROM student_data LIMIT 20;', globals())\n",
    "print(selected_data)"
   ]
  },
  {
   "cell_type": "code",
   "execution_count": 9,
   "id": "2af10a59-0b0e-4dd8-91a7-fe2863958167",
   "metadata": {},
   "outputs": [
    {
     "name": "stdout",
     "output_type": "stream",
     "text": [
      "       Name   GPA\n",
      "0   whatpdl  3.48\n",
      "1   lgffbuy  3.02\n",
      "2   kwpqrsr  3.41\n",
      "3   rfdnvff  3.12\n",
      "4   gcauyql  3.15\n",
      "5   mawrqsf  2.98\n",
      "6   kbceixw  3.57\n",
      "7   elwfzwk  3.48\n",
      "8   jyinyoe  3.53\n",
      "9   vwivfmw  3.50\n",
      "10  tfhkcxt  3.51\n",
      "11  vrhndqu  3.68\n",
      "12  ytopxxe  3.25\n",
      "13  tqebtpd  3.08\n",
      "14  klkjdhp  2.69\n",
      "15  lvouteg  2.97\n",
      "16  zrmuwab  2.93\n",
      "17  dfzgkda  3.23\n",
      "18  bqqhwrw  3.68\n",
      "19  rjzlpjx  3.12\n"
     ]
    }
   ],
   "source": [
    "statement ='SELECT NAME, GPA FROM student_data LIMIT 20;'\n",
    "selected_data = sqldf(statement, globals())\n",
    "print (selected_data)"
   ]
  },
  {
   "cell_type": "code",
   "execution_count": 11,
   "id": "84da7215-3b45-4e62-a152-8b55dd23a1b3",
   "metadata": {},
   "outputs": [
    {
     "name": "stdout",
     "output_type": "stream",
     "text": [
      "              Major\n",
      "0           Biology\n",
      "1  Computer Science\n",
      "2         Sociology\n",
      "3               Art\n",
      "4           English\n",
      "5           History\n",
      "6           Physics\n",
      "7         Chemistry\n",
      "8           Science\n",
      "9       Mathematics\n"
     ]
    }
   ],
   "source": [
    "statement = 'SELECT DISTINCT Major FROM student_data;'\n",
    "selected_data = sqldf(statement, globals())\n",
    "print(selected_data)"
   ]
  },
  {
   "cell_type": "code",
   "execution_count": 14,
   "id": "bedf10fb-efdd-4db7-9af1-9ffa0c8918bb",
   "metadata": {},
   "outputs": [
    {
     "name": "stdout",
     "output_type": "stream",
     "text": [
      "   COUNT (DISTINCT Major)\n",
      "0                      10\n"
     ]
    }
   ],
   "source": [
    "statement = 'SELECT COUNT (DISTINCT Major) FROM student_data'\n",
    "selected_data = sqldf(statement, globals())\n",
    "print(selected_data)"
   ]
  },
  {
   "cell_type": "code",
   "execution_count": 16,
   "id": "a05185c4-d088-4eed-b5c6-31be018f36a6",
   "metadata": {},
   "outputs": [
    {
     "name": "stdout",
     "output_type": "stream",
     "text": [
      "   NumMajors\n",
      "0         10\n"
     ]
    }
   ],
   "source": [
    "statement = 'SELECT COUNT (DISTINCT Major) AS NumMajors FROM student_data'\n",
    "selected_data = sqldf(statement, globals())\n",
    "print(selected_data)"
   ]
  },
  {
   "cell_type": "code",
   "execution_count": 17,
   "id": "d7066d50-97a0-462d-b849-be9fbdc332f2",
   "metadata": {},
   "outputs": [
    {
     "name": "stdout",
     "output_type": "stream",
     "text": [
      "               Major  Year\n",
      "0            Biology     3\n",
      "1   Computer Science     4\n",
      "2          Sociology     4\n",
      "3                Art     4\n",
      "4            English     1\n",
      "5            History     4\n",
      "6            Biology     1\n",
      "7          Sociology     2\n",
      "8            Physics     3\n",
      "9            Physics     2\n",
      "10           Biology     4\n",
      "11           Biology     2\n",
      "12         Chemistry     4\n",
      "13           Science     4\n",
      "14           English     2\n",
      "15  Computer Science     3\n",
      "16               Art     2\n",
      "17           Physics     4\n",
      "18           English     4\n",
      "19           History     2\n",
      "20           English     3\n",
      "21  Computer Science     1\n",
      "22       Mathematics     4\n",
      "23       Mathematics     3\n",
      "24         Chemistry     2\n",
      "25  Computer Science     2\n",
      "26           History     3\n",
      "27           Physics     1\n",
      "28       Mathematics     2\n",
      "29         Chemistry     1\n",
      "30           History     1\n",
      "31           Science     3\n",
      "32       Mathematics     1\n",
      "33         Chemistry     3\n",
      "34           Science     2\n",
      "35               Art     1\n",
      "36         Sociology     3\n",
      "37           Science     1\n",
      "38         Sociology     1\n",
      "39               Art     3\n"
     ]
    }
   ],
   "source": [
    "statement = 'SELECT DISTINCT Major, Year FROM student_data'\n",
    "selected_data = sqldf(statement, globals())\n",
    "print(selected_data)"
   ]
  },
  {
   "cell_type": "code",
   "execution_count": null,
   "id": "b3bd3446-86a3-4b7d-bc2e-1e459f7f23f9",
   "metadata": {},
   "outputs": [],
   "source": []
  }
 ],
 "metadata": {
  "kernelspec": {
   "display_name": "Python 3",
   "language": "python",
   "name": "python3"
  },
  "language_info": {
   "codemirror_mode": {
    "name": "ipython",
    "version": 3
   },
   "file_extension": ".py",
   "mimetype": "text/x-python",
   "name": "python",
   "nbconvert_exporter": "python",
   "pygments_lexer": "ipython3",
   "version": "3.9.5"
  }
 },
 "nbformat": 4,
 "nbformat_minor": 5
}
