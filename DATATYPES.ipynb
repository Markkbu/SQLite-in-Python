{
 "cells": [
  {
   "cell_type": "markdown",
   "id": "3aa5b13e-b467-48e8-9196-d3c6381583fb",
   "metadata": {},
   "source": [
    "# __DATA Types__\n"
   ]
  },
  {
   "cell_type": "markdown",
   "id": "f6211d66-bd02-418e-855f-7201aba5b0fe",
   "metadata": {},
   "source": [
    "# varchar (10)   10 is how many characters it can have\n",
    "# float\n",
    "# integer\n",
    "# bit is bianary\n"
   ]
  },
  {
   "cell_type": "markdown",
   "id": "b42ef157-684d-49d2-baf2-45a42b46f2ec",
   "metadata": {},
   "source": [
    "# date\n",
    "# time\n"
   ]
  },
  {
   "cell_type": "code",
   "execution_count": null,
   "id": "d802373a-23d8-4f5f-b827-079b4b4906f4",
   "metadata": {},
   "outputs": [],
   "source": []
  },
  {
   "cell_type": "code",
   "execution_count": null,
   "id": "ce29318d-e196-4d64-abba-e175ed171739",
   "metadata": {},
   "outputs": [],
   "source": []
  }
 ],
 "metadata": {
  "kernelspec": {
   "display_name": "Python 3",
   "language": "python",
   "name": "python3"
  },
  "language_info": {
   "codemirror_mode": {
    "name": "ipython",
    "version": 3
   },
   "file_extension": ".py",
   "mimetype": "text/x-python",
   "name": "python",
   "nbconvert_exporter": "python",
   "pygments_lexer": "ipython3",
   "version": "3.9.5"
  }
 },
 "nbformat": 4,
 "nbformat_minor": 5
}
