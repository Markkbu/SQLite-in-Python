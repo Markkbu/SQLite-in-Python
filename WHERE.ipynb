{
 "cells": [
  {
   "cell_type": "code",
   "execution_count": 1,
   "id": "d57938aa-95c2-4182-8dde-8923dfa46917",
   "metadata": {},
   "outputs": [],
   "source": [
    "! pip install pandasql\n",
    "\n",
    "import pandas as pd\n",
    "from pandasql import sqldf\n",
    "from random import choice, random\n",
    "\n",
    "major_choices = ['English', 'Science', 'Mathematics', 'Physics', 'Computer Science', 'History', 'Chemistry', 'Biology', 'Art', 'Sociology']\n",
    "year_choice = [1, 2, 3, 4, 4]\n",
    "\n",
    "major_gpa_avg = {major : random() + 2.5 for major in major_choices}\n",
    "\n",
    "n = 100000\n",
    "\n",
    "names = [''.join([ choice('abcdefghijklmnopqrstuvwxyz') for _ in range(7) ]) for _ in range(n)]\n",
    "majors = [choice(major_choices) for _ in range(n)]\n",
    "gpas = [min(major_gpa_avg[m] + random()/4.0, 4.0) for m in majors]\n",
    "years = [choice(year_choice) for _ in range(n)]\n",
    "\n",
    "student_data = pd.DataFrame( data = zip(names, gpas, majors, years), columns=['Name', 'GPA', 'Major', 'Year'] )\n",
    "\n",
    "student_data['GPA'] = student_data.GPA.round(2)"
   ]
  },
  {
   "cell_type": "code",
   "execution_count": 8,
   "id": "a80840ed-44e9-4799-aff6-5331ca522ff1",
   "metadata": {},
   "outputs": [
    {
     "name": "stdout",
     "output_type": "stream",
     "text": [
      "       Name   GPA Major  Year\n",
      "0   lsevqqz  3.41   Art     4\n",
      "1   carhcoy  3.49   Art     1\n",
      "2   bgckolx  3.31   Art     4\n",
      "3   nhqurkx  3.40   Art     3\n",
      "4   ncdfxbd  3.27   Art     4\n",
      "5   bxtbkks  3.37   Art     1\n",
      "6   iiedwsc  3.31   Art     4\n",
      "7   heznnyg  3.32   Art     4\n",
      "8   taehegz  3.27   Art     2\n",
      "9   orjjtjc  3.36   Art     1\n",
      "10  rgmkhbe  3.41   Art     2\n",
      "11  gktthoy  3.47   Art     3\n",
      "12  oxlqyvi  3.37   Art     4\n",
      "13  oznqqog  3.39   Art     2\n",
      "14  hcymuqn  3.29   Art     1\n",
      "15  rwdpngw  3.28   Art     4\n",
      "16  kqspipi  3.37   Art     4\n",
      "17  olwdvni  3.30   Art     1\n",
      "18  nldfvts  3.31   Art     4\n",
      "19  ainlxuo  3.31   Art     4\n"
     ]
    }
   ],
   "source": [
    "statement = \"SELECT * FROM student_data WHERE Major = 'Art' Limit 20;\"\n",
    "selected_data = sqldf(statement, globals())\n",
    "print(selected_data)"
   ]
  },
  {
   "cell_type": "code",
   "execution_count": 11,
   "id": "2c2441ee-1956-424b-bde6-bdf1a231d1dd",
   "metadata": {},
   "outputs": [
    {
     "name": "stdout",
     "output_type": "stream",
     "text": [
      "     GPA\n",
      "0   3.41\n",
      "1   3.49\n",
      "2   3.31\n",
      "3   3.40\n",
      "4   3.27\n",
      "5   3.37\n",
      "6   3.31\n",
      "7   3.32\n",
      "8   3.27\n",
      "9   3.36\n",
      "10  3.41\n",
      "11  3.47\n",
      "12  3.37\n",
      "13  3.39\n",
      "14  3.29\n",
      "15  3.28\n",
      "16  3.37\n",
      "17  3.30\n",
      "18  3.31\n",
      "19  3.31\n"
     ]
    }
   ],
   "source": [
    "statement = \"SELECT GPA FROM student_data WHERE Major = 'Art' LIMIT 20;\"\n",
    "selected_data = sqldf(statement, globals())\n",
    "print(selected_data)"
   ]
  },
  {
   "cell_type": "code",
   "execution_count": 12,
   "id": "c4f06697-9cc2-473e-9900-3670b2f96ee9",
   "metadata": {},
   "outputs": [
    {
     "name": "stdout",
     "output_type": "stream",
     "text": [
      "       Name   GPA Major  Year\n",
      "0   lsevqqz  3.41   Art     4\n",
      "1   carhcoy  3.49   Art     1\n",
      "2   bgckolx  3.31   Art     4\n",
      "3   nhqurkx  3.40   Art     3\n",
      "4   ncdfxbd  3.27   Art     4\n",
      "5   bxtbkks  3.37   Art     1\n",
      "6   iiedwsc  3.31   Art     4\n",
      "7   heznnyg  3.32   Art     4\n",
      "8   taehegz  3.27   Art     2\n",
      "9   orjjtjc  3.36   Art     1\n",
      "10  rgmkhbe  3.41   Art     2\n",
      "11  gktthoy  3.47   Art     3\n",
      "12  oxlqyvi  3.37   Art     4\n",
      "13  oznqqog  3.39   Art     2\n",
      "14  hcymuqn  3.29   Art     1\n",
      "15  rwdpngw  3.28   Art     4\n",
      "16  kqspipi  3.37   Art     4\n",
      "17  olwdvni  3.30   Art     1\n",
      "18  nldfvts  3.31   Art     4\n",
      "19  ainlxuo  3.31   Art     4\n"
     ]
    }
   ],
   "source": [
    "statement = \"SELECT * FROM student_data WHERE Major = 'Art' or Major = 'Business' LIMIT 20;\"\n",
    "selected_data = sqldf(statement, globals())\n",
    "print(selected_data)"
   ]
  },
  {
   "cell_type": "code",
   "execution_count": 13,
   "id": "5d84c3b5-fd05-419a-afc1-f4d492560640",
   "metadata": {},
   "outputs": [
    {
     "name": "stdout",
     "output_type": "stream",
     "text": [
      "       Name   GPA Major  Year\n",
      "0   lsevqqz  3.41   Art     4\n",
      "1   carhcoy  3.49   Art     1\n",
      "2   bgckolx  3.31   Art     4\n",
      "3   nhqurkx  3.40   Art     3\n",
      "4   ncdfxbd  3.27   Art     4\n",
      "5   bxtbkks  3.37   Art     1\n",
      "6   iiedwsc  3.31   Art     4\n",
      "7   heznnyg  3.32   Art     4\n",
      "8   taehegz  3.27   Art     2\n",
      "9   orjjtjc  3.36   Art     1\n",
      "10  rgmkhbe  3.41   Art     2\n",
      "11  gktthoy  3.47   Art     3\n",
      "12  oxlqyvi  3.37   Art     4\n",
      "13  oznqqog  3.39   Art     2\n",
      "14  hcymuqn  3.29   Art     1\n",
      "15  rwdpngw  3.28   Art     4\n",
      "16  kqspipi  3.37   Art     4\n",
      "17  olwdvni  3.30   Art     1\n",
      "18  nldfvts  3.31   Art     4\n",
      "19  ainlxuo  3.31   Art     4\n"
     ]
    }
   ],
   "source": [
    "statement = \"SELECT * FROM student_data WHERE Major = 'Art' and GPA >3.0 LIMIT 20;\"\n",
    "selected_data = sqldf(statement, globals())\n",
    "print(selected_data)"
   ]
  },
  {
   "cell_type": "code",
   "execution_count": 16,
   "id": "370202fc-b756-4d89-a70f-a02b50e23908",
   "metadata": {},
   "outputs": [
    {
     "name": "stdout",
     "output_type": "stream",
     "text": [
      "     AvgGPA\n",
      "0  2.810966\n"
     ]
    }
   ],
   "source": [
    "statement = \"SELECT AVG(GPA) as AvgGPA FROM student_data WHERE Major != 'Art' and Year >= 3;\"\n",
    "selected_data = sqldf(statement, globals())\n",
    "print(selected_data)"
   ]
  },
  {
   "cell_type": "code",
   "execution_count": 17,
   "id": "b7f3a004-ea5d-4607-9c1e-9cec5a4b2b6c",
   "metadata": {},
   "outputs": [
    {
     "name": "stdout",
     "output_type": "stream",
     "text": [
      "       Name   GPA      Major  Year\n",
      "0   sptpdwx  2.81    History     1\n",
      "1   chvvrry  2.64    History     3\n",
      "2   qqbqnps  2.65    History     3\n",
      "3   czxxfwp  2.66    History     4\n",
      "4   xcwskgw  2.79    History     4\n",
      "5   vegikqs  2.89  Chemistry     4\n",
      "6   iunxcfn  2.74    History     4\n",
      "7   obtgubw  3.02  Chemistry     3\n",
      "8   tytlgha  2.81  Chemistry     4\n",
      "9   vferezf  2.69    History     4\n",
      "10  zaekfik  2.82    History     4\n",
      "11  txjpvsv  2.61    History     1\n",
      "12  dbtpolj  2.61    History     4\n",
      "13  lwyytmt  2.73    History     4\n",
      "14  rqifqsn  2.71    History     4\n",
      "15  hvibgai  2.91  Chemistry     4\n",
      "16  llvgljg  3.01  Chemistry     4\n",
      "17  mwhwrch  2.72    History     4\n",
      "18  dfuhgvp  2.98  Chemistry     2\n",
      "19  basondx  2.91  Chemistry     4\n"
     ]
    }
   ],
   "source": [
    "statement = \"SELECT * FROM student_data WHERE Major LIKE '%ry' LIMIT 20;\"\n",
    "selected_data = sqldf(statement, globals())\n",
    "print(selected_data)"
   ]
  },
  {
   "cell_type": "code",
   "execution_count": null,
   "id": "d9b6a299-b6ab-4e21-b692-f0eb640938fd",
   "metadata": {},
   "outputs": [],
   "source": []
  }
 ],
 "metadata": {
  "kernelspec": {
   "display_name": "Python 3",
   "language": "python",
   "name": "python3"
  },
  "language_info": {
   "codemirror_mode": {
    "name": "ipython",
    "version": 3
   },
   "file_extension": ".py",
   "mimetype": "text/x-python",
   "name": "python",
   "nbconvert_exporter": "python",
   "pygments_lexer": "ipython3",
   "version": "3.9.5"
  }
 },
 "nbformat": 4,
 "nbformat_minor": 5
}
