{
 "cells": [
  {
   "cell_type": "code",
   "execution_count": 1,
   "id": "da945f87-4bb8-435b-b98f-69b4a97145d5",
   "metadata": {},
   "outputs": [],
   "source": [
    "import sqlite3\n",
    "import pandas as pd"
   ]
  },
  {
   "cell_type": "code",
   "execution_count": 2,
   "id": "31cf3bb2-b04d-488d-b07b-498ba2e4afc8",
   "metadata": {},
   "outputs": [],
   "source": [
    "conn = sqlite3.connect('students.db')"
   ]
  },
  {
   "cell_type": "code",
   "execution_count": 3,
   "id": "0d63c6e3-2ba0-41a6-b07a-98502afcb7a6",
   "metadata": {},
   "outputs": [],
   "source": [
    "cur = conn.cursor()"
   ]
  },
  {
   "cell_type": "code",
   "execution_count": 4,
   "id": "9a55c485-4d60-4f44-af4a-e53c903911f9",
   "metadata": {},
   "outputs": [],
   "source": [
    "def display_as_table(data, headers):\n",
    "    df = pd.DataFrame(data=data, columns=[i[0] for i in headers])\n",
    "    return df"
   ]
  },
  {
   "cell_type": "code",
   "execution_count": 5,
   "id": "9fb7a483-bff3-4003-b4e8-8a16da41556b",
   "metadata": {},
   "outputs": [
    {
     "ename": "OperationalError",
     "evalue": "table Students already exists",
     "output_type": "error",
     "traceback": [
      "\u001b[0;31m---------------------------------------------------------------------------\u001b[0m",
      "\u001b[0;31mOperationalError\u001b[0m                          Traceback (most recent call last)",
      "\u001b[0;32m<ipython-input-5-226ddb2c88ec>\u001b[0m in \u001b[0;36m<module>\u001b[0;34m\u001b[0m\n\u001b[1;32m      1\u001b[0m \u001b[0;31m#create Student table\u001b[0m\u001b[0;34m\u001b[0m\u001b[0;34m\u001b[0m\u001b[0;34m\u001b[0m\u001b[0m\n\u001b[0;32m----> 2\u001b[0;31m \u001b[0mcur\u001b[0m\u001b[0;34m.\u001b[0m\u001b[0mexecute\u001b[0m\u001b[0;34m(\u001b[0m\u001b[0;34m\"Create Table Students(Name text, GPA float, Major text, Year integer)\"\u001b[0m\u001b[0;34m)\u001b[0m\u001b[0;34m\u001b[0m\u001b[0;34m\u001b[0m\u001b[0m\n\u001b[0m",
      "\u001b[0;31mOperationalError\u001b[0m: table Students already exists"
     ]
    }
   ],
   "source": [
    "#create Student table\n",
    "cur.execute(\"Create Table Students(Name text, GPA float, Major text, Year integer)\")"
   ]
  },
  {
   "cell_type": "code",
   "execution_count": 6,
   "id": "28ca5e56-c77e-4ed2-90bb-a2780cbd735a",
   "metadata": {},
   "outputs": [
    {
     "data": {
      "text/plain": [
       "<sqlite3.Cursor at 0x7fa834df7ab0>"
      ]
     },
     "execution_count": 6,
     "metadata": {},
     "output_type": "execute_result"
    }
   ],
   "source": [
    "cur.execute(\"SELECT * FROM Students\")\n"
   ]
  },
  {
   "cell_type": "code",
   "execution_count": 7,
   "id": "17464d52-4a15-4e97-bf9e-69529e66e5aa",
   "metadata": {},
   "outputs": [
    {
     "data": {
      "text/html": [
       "<div>\n",
       "<style scoped>\n",
       "    .dataframe tbody tr th:only-of-type {\n",
       "        vertical-align: middle;\n",
       "    }\n",
       "\n",
       "    .dataframe tbody tr th {\n",
       "        vertical-align: top;\n",
       "    }\n",
       "\n",
       "    .dataframe thead th {\n",
       "        text-align: right;\n",
       "    }\n",
       "</style>\n",
       "<table border=\"1\" class=\"dataframe\">\n",
       "  <thead>\n",
       "    <tr style=\"text-align: right;\">\n",
       "      <th></th>\n",
       "      <th>Name</th>\n",
       "      <th>GPA</th>\n",
       "      <th>Major</th>\n",
       "      <th>Year</th>\n",
       "    </tr>\n",
       "  </thead>\n",
       "  <tbody>\n",
       "    <tr>\n",
       "      <th>0</th>\n",
       "      <td>Yoda</td>\n",
       "      <td>3.8</td>\n",
       "      <td>Math</td>\n",
       "      <td>3</td>\n",
       "    </tr>\n",
       "    <tr>\n",
       "      <th>1</th>\n",
       "      <td>Yoda</td>\n",
       "      <td>3.8</td>\n",
       "      <td>Math</td>\n",
       "      <td>3</td>\n",
       "    </tr>\n",
       "  </tbody>\n",
       "</table>\n",
       "</div>"
      ],
      "text/plain": [
       "   Name  GPA Major  Year\n",
       "0  Yoda  3.8  Math     3\n",
       "1  Yoda  3.8  Math     3"
      ]
     },
     "execution_count": 7,
     "metadata": {},
     "output_type": "execute_result"
    }
   ],
   "source": [
    "display_as_table(cur.fetchall(), cur.description)"
   ]
  },
  {
   "cell_type": "code",
   "execution_count": 8,
   "id": "6d4dcbb3-0144-42ac-8b12-4088cbc102c8",
   "metadata": {},
   "outputs": [],
   "source": [
    "#Insert Stuff"
   ]
  },
  {
   "cell_type": "code",
   "execution_count": 9,
   "id": "597726a9-0da4-4ce0-ab6a-b7985e403798",
   "metadata": {},
   "outputs": [
    {
     "data": {
      "text/html": [
       "<div>\n",
       "<style scoped>\n",
       "    .dataframe tbody tr th:only-of-type {\n",
       "        vertical-align: middle;\n",
       "    }\n",
       "\n",
       "    .dataframe tbody tr th {\n",
       "        vertical-align: top;\n",
       "    }\n",
       "\n",
       "    .dataframe thead th {\n",
       "        text-align: right;\n",
       "    }\n",
       "</style>\n",
       "<table border=\"1\" class=\"dataframe\">\n",
       "  <thead>\n",
       "    <tr style=\"text-align: right;\">\n",
       "      <th></th>\n",
       "      <th>Name</th>\n",
       "      <th>GPA</th>\n",
       "      <th>Major</th>\n",
       "      <th>Year</th>\n",
       "    </tr>\n",
       "  </thead>\n",
       "  <tbody>\n",
       "    <tr>\n",
       "      <th>0</th>\n",
       "      <td>Yoda</td>\n",
       "      <td>3.8</td>\n",
       "      <td>Math</td>\n",
       "      <td>3</td>\n",
       "    </tr>\n",
       "    <tr>\n",
       "      <th>1</th>\n",
       "      <td>Yoda</td>\n",
       "      <td>3.8</td>\n",
       "      <td>Math</td>\n",
       "      <td>3</td>\n",
       "    </tr>\n",
       "    <tr>\n",
       "      <th>2</th>\n",
       "      <td>Yoda</td>\n",
       "      <td>3.8</td>\n",
       "      <td>Math</td>\n",
       "      <td>3</td>\n",
       "    </tr>\n",
       "  </tbody>\n",
       "</table>\n",
       "</div>"
      ],
      "text/plain": [
       "   Name  GPA Major  Year\n",
       "0  Yoda  3.8  Math     3\n",
       "1  Yoda  3.8  Math     3\n",
       "2  Yoda  3.8  Math     3"
      ]
     },
     "execution_count": 9,
     "metadata": {},
     "output_type": "execute_result"
    }
   ],
   "source": [
    "cur.execute(\"INSERT INTO Students VALUES ('Yoda', 3.8, 'Math', 3)\")\n",
    "cur.execute(\"SELECT * FROM Students\")\n",
    "display_as_table(cur.fetchall(), cur.description)\n"
   ]
  },
  {
   "cell_type": "code",
   "execution_count": 10,
   "id": "f3976827-4d05-4e27-b399-fd505d5cf32f",
   "metadata": {},
   "outputs": [],
   "source": [
    "conn.commit()"
   ]
  },
  {
   "cell_type": "code",
   "execution_count": 11,
   "id": "4984fead-1309-47b2-a6d7-635b76dd783f",
   "metadata": {},
   "outputs": [],
   "source": [
    "#Insert a few more row"
   ]
  },
  {
   "cell_type": "code",
   "execution_count": 12,
   "id": "594e25e2-c82b-4572-8c4e-5a2a44fcd837",
   "metadata": {},
   "outputs": [
    {
     "data": {
      "text/plain": [
       "<sqlite3.Cursor at 0x7fa834df7ab0>"
      ]
     },
     "execution_count": 12,
     "metadata": {},
     "output_type": "execute_result"
    }
   ],
   "source": [
    "cur.execute('''INSERT INTO Students VALUES\n",
    "    ('Vader', 2.8, 'Math', 1),\n",
    "    ('Rey', 3.9, 'Physics', 2),\n",
    "    ('Kylo', 2.9, 'History', 3),\n",
    "    ('Snoke', 3.5, 'Art', 4),\n",
    "    ('Finn', 3.2, 'Art', 3),\n",
    "    ('Han', 3.7, 'Math', 2),\n",
    "    ('Luke', 3.0, 'History', 1)''')"
   ]
  },
  {
   "cell_type": "code",
   "execution_count": 13,
   "id": "53dad5fe-a093-4b19-8576-22d62193eaaa",
   "metadata": {},
   "outputs": [
    {
     "data": {
      "text/html": [
       "<div>\n",
       "<style scoped>\n",
       "    .dataframe tbody tr th:only-of-type {\n",
       "        vertical-align: middle;\n",
       "    }\n",
       "\n",
       "    .dataframe tbody tr th {\n",
       "        vertical-align: top;\n",
       "    }\n",
       "\n",
       "    .dataframe thead th {\n",
       "        text-align: right;\n",
       "    }\n",
       "</style>\n",
       "<table border=\"1\" class=\"dataframe\">\n",
       "  <thead>\n",
       "    <tr style=\"text-align: right;\">\n",
       "      <th></th>\n",
       "      <th>Name</th>\n",
       "      <th>GPA</th>\n",
       "      <th>Major</th>\n",
       "      <th>Year</th>\n",
       "    </tr>\n",
       "  </thead>\n",
       "  <tbody>\n",
       "    <tr>\n",
       "      <th>0</th>\n",
       "      <td>Yoda</td>\n",
       "      <td>3.8</td>\n",
       "      <td>Math</td>\n",
       "      <td>3</td>\n",
       "    </tr>\n",
       "    <tr>\n",
       "      <th>1</th>\n",
       "      <td>Yoda</td>\n",
       "      <td>3.8</td>\n",
       "      <td>Math</td>\n",
       "      <td>3</td>\n",
       "    </tr>\n",
       "    <tr>\n",
       "      <th>2</th>\n",
       "      <td>Yoda</td>\n",
       "      <td>3.8</td>\n",
       "      <td>Math</td>\n",
       "      <td>3</td>\n",
       "    </tr>\n",
       "    <tr>\n",
       "      <th>3</th>\n",
       "      <td>Vader</td>\n",
       "      <td>2.8</td>\n",
       "      <td>Math</td>\n",
       "      <td>1</td>\n",
       "    </tr>\n",
       "    <tr>\n",
       "      <th>4</th>\n",
       "      <td>Rey</td>\n",
       "      <td>3.9</td>\n",
       "      <td>Physics</td>\n",
       "      <td>2</td>\n",
       "    </tr>\n",
       "    <tr>\n",
       "      <th>5</th>\n",
       "      <td>Kylo</td>\n",
       "      <td>2.9</td>\n",
       "      <td>History</td>\n",
       "      <td>3</td>\n",
       "    </tr>\n",
       "    <tr>\n",
       "      <th>6</th>\n",
       "      <td>Snoke</td>\n",
       "      <td>3.5</td>\n",
       "      <td>Art</td>\n",
       "      <td>4</td>\n",
       "    </tr>\n",
       "    <tr>\n",
       "      <th>7</th>\n",
       "      <td>Finn</td>\n",
       "      <td>3.2</td>\n",
       "      <td>Art</td>\n",
       "      <td>3</td>\n",
       "    </tr>\n",
       "    <tr>\n",
       "      <th>8</th>\n",
       "      <td>Han</td>\n",
       "      <td>3.7</td>\n",
       "      <td>Math</td>\n",
       "      <td>2</td>\n",
       "    </tr>\n",
       "    <tr>\n",
       "      <th>9</th>\n",
       "      <td>Luke</td>\n",
       "      <td>3.0</td>\n",
       "      <td>History</td>\n",
       "      <td>1</td>\n",
       "    </tr>\n",
       "  </tbody>\n",
       "</table>\n",
       "</div>"
      ],
      "text/plain": [
       "    Name  GPA    Major  Year\n",
       "0   Yoda  3.8     Math     3\n",
       "1   Yoda  3.8     Math     3\n",
       "2   Yoda  3.8     Math     3\n",
       "3  Vader  2.8     Math     1\n",
       "4    Rey  3.9  Physics     2\n",
       "5   Kylo  2.9  History     3\n",
       "6  Snoke  3.5      Art     4\n",
       "7   Finn  3.2      Art     3\n",
       "8    Han  3.7     Math     2\n",
       "9   Luke  3.0  History     1"
      ]
     },
     "execution_count": 13,
     "metadata": {},
     "output_type": "execute_result"
    }
   ],
   "source": [
    "# display the Student table\n",
    "cur.execute(\"SELECT * FROM Students\")\n",
    "display_as_table(cur.fetchall(), cur.description)"
   ]
  },
  {
   "cell_type": "code",
   "execution_count": 14,
   "id": "26dda7eb-e236-4950-a77b-8f9e637dcb4a",
   "metadata": {},
   "outputs": [],
   "source": [
    "conn.commit()"
   ]
  },
  {
   "cell_type": "code",
   "execution_count": 15,
   "id": "b355b2ba-0138-4b95-a979-ac0b071599b1",
   "metadata": {},
   "outputs": [
    {
     "data": {
      "text/html": [
       "<div>\n",
       "<style scoped>\n",
       "    .dataframe tbody tr th:only-of-type {\n",
       "        vertical-align: middle;\n",
       "    }\n",
       "\n",
       "    .dataframe tbody tr th {\n",
       "        vertical-align: top;\n",
       "    }\n",
       "\n",
       "    .dataframe thead th {\n",
       "        text-align: right;\n",
       "    }\n",
       "</style>\n",
       "<table border=\"1\" class=\"dataframe\">\n",
       "  <thead>\n",
       "    <tr style=\"text-align: right;\">\n",
       "      <th></th>\n",
       "      <th>Name</th>\n",
       "      <th>GPA</th>\n",
       "    </tr>\n",
       "  </thead>\n",
       "  <tbody>\n",
       "    <tr>\n",
       "      <th>0</th>\n",
       "      <td>Yoda</td>\n",
       "      <td>3.8</td>\n",
       "    </tr>\n",
       "    <tr>\n",
       "      <th>1</th>\n",
       "      <td>Yoda</td>\n",
       "      <td>3.8</td>\n",
       "    </tr>\n",
       "    <tr>\n",
       "      <th>2</th>\n",
       "      <td>Yoda</td>\n",
       "      <td>3.8</td>\n",
       "    </tr>\n",
       "    <tr>\n",
       "      <th>3</th>\n",
       "      <td>Rey</td>\n",
       "      <td>3.9</td>\n",
       "    </tr>\n",
       "    <tr>\n",
       "      <th>4</th>\n",
       "      <td>Snoke</td>\n",
       "      <td>3.5</td>\n",
       "    </tr>\n",
       "    <tr>\n",
       "      <th>5</th>\n",
       "      <td>Han</td>\n",
       "      <td>3.7</td>\n",
       "    </tr>\n",
       "  </tbody>\n",
       "</table>\n",
       "</div>"
      ],
      "text/plain": [
       "    Name  GPA\n",
       "0   Yoda  3.8\n",
       "1   Yoda  3.8\n",
       "2   Yoda  3.8\n",
       "3    Rey  3.9\n",
       "4  Snoke  3.5\n",
       "5    Han  3.7"
      ]
     },
     "execution_count": 15,
     "metadata": {},
     "output_type": "execute_result"
    }
   ],
   "source": [
    "cur.execute(\"SELECT Name, GPA FROM Students WHERE GPA > 3.2\")\n",
    "display_as_table(cur.fetchall(), cur.description)"
   ]
  },
  {
   "cell_type": "code",
   "execution_count": 16,
   "id": "2e9b3ba6-cdc1-4d88-975b-6d48818a612f",
   "metadata": {},
   "outputs": [],
   "source": [
    "# Insert record only for certain columns"
   ]
  },
  {
   "cell_type": "code",
   "execution_count": 17,
   "id": "a3e1a67a-7c1c-4a23-85a8-6b6bbec191a2",
   "metadata": {},
   "outputs": [
    {
     "data": {
      "text/html": [
       "<div>\n",
       "<style scoped>\n",
       "    .dataframe tbody tr th:only-of-type {\n",
       "        vertical-align: middle;\n",
       "    }\n",
       "\n",
       "    .dataframe tbody tr th {\n",
       "        vertical-align: top;\n",
       "    }\n",
       "\n",
       "    .dataframe thead th {\n",
       "        text-align: right;\n",
       "    }\n",
       "</style>\n",
       "<table border=\"1\" class=\"dataframe\">\n",
       "  <thead>\n",
       "    <tr style=\"text-align: right;\">\n",
       "      <th></th>\n",
       "      <th>Name</th>\n",
       "      <th>GPA</th>\n",
       "      <th>Major</th>\n",
       "      <th>Year</th>\n",
       "    </tr>\n",
       "  </thead>\n",
       "  <tbody>\n",
       "    <tr>\n",
       "      <th>0</th>\n",
       "      <td>Yoda</td>\n",
       "      <td>3.8</td>\n",
       "      <td>Math</td>\n",
       "      <td>3</td>\n",
       "    </tr>\n",
       "    <tr>\n",
       "      <th>1</th>\n",
       "      <td>Yoda</td>\n",
       "      <td>3.8</td>\n",
       "      <td>Math</td>\n",
       "      <td>3</td>\n",
       "    </tr>\n",
       "    <tr>\n",
       "      <th>2</th>\n",
       "      <td>Yoda</td>\n",
       "      <td>3.8</td>\n",
       "      <td>Math</td>\n",
       "      <td>3</td>\n",
       "    </tr>\n",
       "    <tr>\n",
       "      <th>3</th>\n",
       "      <td>Vader</td>\n",
       "      <td>2.8</td>\n",
       "      <td>Math</td>\n",
       "      <td>1</td>\n",
       "    </tr>\n",
       "    <tr>\n",
       "      <th>4</th>\n",
       "      <td>Rey</td>\n",
       "      <td>3.9</td>\n",
       "      <td>Physics</td>\n",
       "      <td>2</td>\n",
       "    </tr>\n",
       "    <tr>\n",
       "      <th>5</th>\n",
       "      <td>Kylo</td>\n",
       "      <td>2.9</td>\n",
       "      <td>History</td>\n",
       "      <td>3</td>\n",
       "    </tr>\n",
       "    <tr>\n",
       "      <th>6</th>\n",
       "      <td>Snoke</td>\n",
       "      <td>3.5</td>\n",
       "      <td>Art</td>\n",
       "      <td>4</td>\n",
       "    </tr>\n",
       "    <tr>\n",
       "      <th>7</th>\n",
       "      <td>Finn</td>\n",
       "      <td>3.2</td>\n",
       "      <td>Art</td>\n",
       "      <td>3</td>\n",
       "    </tr>\n",
       "    <tr>\n",
       "      <th>8</th>\n",
       "      <td>Han</td>\n",
       "      <td>3.7</td>\n",
       "      <td>Math</td>\n",
       "      <td>2</td>\n",
       "    </tr>\n",
       "    <tr>\n",
       "      <th>9</th>\n",
       "      <td>Luke</td>\n",
       "      <td>3.0</td>\n",
       "      <td>History</td>\n",
       "      <td>1</td>\n",
       "    </tr>\n",
       "    <tr>\n",
       "      <th>10</th>\n",
       "      <td>Maul</td>\n",
       "      <td>NaN</td>\n",
       "      <td>Math</td>\n",
       "      <td>1</td>\n",
       "    </tr>\n",
       "  </tbody>\n",
       "</table>\n",
       "</div>"
      ],
      "text/plain": [
       "     Name  GPA    Major  Year\n",
       "0    Yoda  3.8     Math     3\n",
       "1    Yoda  3.8     Math     3\n",
       "2    Yoda  3.8     Math     3\n",
       "3   Vader  2.8     Math     1\n",
       "4     Rey  3.9  Physics     2\n",
       "5    Kylo  2.9  History     3\n",
       "6   Snoke  3.5      Art     4\n",
       "7    Finn  3.2      Art     3\n",
       "8     Han  3.7     Math     2\n",
       "9    Luke  3.0  History     1\n",
       "10   Maul  NaN     Math     1"
      ]
     },
     "execution_count": 17,
     "metadata": {},
     "output_type": "execute_result"
    }
   ],
   "source": [
    "cur.execute(\"INSERT INTO Students (Name, Major, Year) VALUES('Maul', 'Math', 1)\")\n",
    "cur.execute(\"SELECT * FROM Students\")\n",
    "display_as_table(cur.fetchall(), cur.description)"
   ]
  },
  {
   "cell_type": "code",
   "execution_count": 18,
   "id": "c0f49378-898b-476b-b4ee-004269686396",
   "metadata": {},
   "outputs": [],
   "source": [
    "conn.commit()"
   ]
  },
  {
   "cell_type": "code",
   "execution_count": 19,
   "id": "e1b13a04-5457-4345-848a-d569ca52d72c",
   "metadata": {},
   "outputs": [],
   "source": [
    "#Insert records from another table"
   ]
  },
  {
   "cell_type": "code",
   "execution_count": null,
   "id": "cce52417-9eb1-4dd4-a161-6d7f2fda633c",
   "metadata": {},
   "outputs": [],
   "source": [
    "#Insert New Students table into Students\n",
    "#curr.execute(\"INSERT INTO Students SELECT * FROM New Studens\")"
   ]
  }
 ],
 "metadata": {
  "kernelspec": {
   "display_name": "Python 3",
   "language": "python",
   "name": "python3"
  },
  "language_info": {
   "codemirror_mode": {
    "name": "ipython",
    "version": 3
   },
   "file_extension": ".py",
   "mimetype": "text/x-python",
   "name": "python",
   "nbconvert_exporter": "python",
   "pygments_lexer": "ipython3",
   "version": "3.9.5"
  }
 },
 "nbformat": 4,
 "nbformat_minor": 5
}
