{
 "cells": [
  {
   "cell_type": "code",
   "execution_count": 1,
   "id": "2e48baaa-93c7-4114-a623-b709765e96ba",
   "metadata": {},
   "outputs": [
    {
     "name": "stdout",
     "output_type": "stream",
     "text": [
      "\u001b[33mWARNING: The directory '/home/jovyan/.cache/pip' or its parent directory is not owned or is not writable by the current user. The cache has been disabled. Check the permissions and owner of that directory. If executing pip with sudo, you should use sudo's -H flag.\u001b[0m\n",
      "Requirement already satisfied: pandasql in /opt/conda/lib/python3.9/site-packages (0.7.3)\n",
      "Requirement already satisfied: sqlalchemy in /opt/conda/lib/python3.9/site-packages (from pandasql) (1.4.18)\n",
      "Requirement already satisfied: numpy in /opt/conda/lib/python3.9/site-packages (from pandasql) (1.19.5)\n",
      "Requirement already satisfied: pandas in /opt/conda/lib/python3.9/site-packages (from pandasql) (1.2.4)\n",
      "Requirement already satisfied: python-dateutil>=2.7.3 in /opt/conda/lib/python3.9/site-packages (from pandas->pandasql) (2.8.1)\n",
      "Requirement already satisfied: pytz>=2017.3 in /opt/conda/lib/python3.9/site-packages (from pandas->pandasql) (2021.1)\n",
      "Requirement already satisfied: six>=1.5 in /opt/conda/lib/python3.9/site-packages (from python-dateutil>=2.7.3->pandas->pandasql) (1.16.0)\n",
      "Requirement already satisfied: greenlet!=0.4.17 in /opt/conda/lib/python3.9/site-packages (from sqlalchemy->pandasql) (1.1.0)\n",
      "\u001b[33mWARNING: Running pip as root will break packages and permissions. You should install packages reliably by using venv: https://pip.pypa.io/warnings/venv\u001b[0m\n"
     ]
    }
   ],
   "source": [
    "! pip install pandasql\n",
    "\n",
    "import pandas as pd\n",
    "from pandasql import sqldf\n",
    "from random import choice, random, sample\n",
    "\n"
   ]
  },
  {
   "cell_type": "code",
   "execution_count": 2,
   "id": "c28a9855-9443-4491-8674-6e6881210774",
   "metadata": {},
   "outputs": [],
   "source": [
    "major_choices = ['English', 'Science', 'Mathematics', 'Physics', 'Computer Science', 'History', 'Chemistry', 'Biology', 'Art', 'Sociology']\n",
    "year_choice = [1, 2, 3, 4, 4]\n",
    "\n",
    "major_gpa_avg = {major : random() + 2.5 for major in major_choices}\n",
    "\n",
    "n = 100000\n",
    "\n",
    "names = [''.join([ choice('abcdefghijklmnopqrstuvwxyz') for _ in range(7) ]) for _ in range(n)]\n",
    "majors = [choice(major_choices) for _ in range(n)]\n",
    "gpas = [min(major_gpa_avg[m] + random()/4.0, 4.0) for m in majors]\n",
    "years = [choice(year_choice) for _ in range(n)]\n",
    "\n",
    "student_data = pd.DataFrame( data = zip(names, gpas, majors, years), columns=['Name', 'GPA', 'Major', 'Year'] )\n",
    "\n",
    "student_data['GPA'] = student_data.GPA.round(2)\n",
    "\n",
    "\n",
    "job_choices = ['Dining','Library','AV Setup','Research Assistant','Tech Support']\n",
    "wage_dic = {field:12+2*random() for field in job_choices}\n",
    "\n",
    "\n",
    "n = 5000\n",
    "\n",
    "names = sample(names,n)\n",
    "job_area = [choice(job_choices) for _ in range(n)]\n",
    "wage = [wage_dic[j]+random() for j in job_area]\n",
    "\n",
    "job_data = pd.DataFrame(data = zip(names, job_area, wage), columns=['Name','Job','Wage'])"
   ]
  },
  {
   "cell_type": "code",
   "execution_count": 3,
   "id": "0433273f-4ca5-4aaf-abf2-49bd0f1faedd",
   "metadata": {},
   "outputs": [
    {
     "name": "stdout",
     "output_type": "stream",
     "text": [
      "       Name                 Job       Wage\n",
      "0   mqdunnq            AV Setup  14.599566\n",
      "1   idkjtku              Dining  12.751683\n",
      "2   adqlfaq              Dining  13.109625\n",
      "3   kertldy             Library  13.225989\n",
      "4   pglmruc  Research Assistant  14.076964\n",
      "5   dhawhti            AV Setup  14.084629\n",
      "6   aqvdsri  Research Assistant  14.261009\n",
      "7   eawtcrz             Library  13.669537\n",
      "8   ccxxtgm  Research Assistant  14.176123\n",
      "9   tishhry              Dining  12.966573\n",
      "10  lrpzeww             Library  13.374574\n",
      "11  uhqqrqo            AV Setup  14.130457\n",
      "12  xutefkc  Research Assistant  13.859788\n",
      "13  bapxuxf              Dining  12.656123\n",
      "14  ajpjwlt             Library  13.342923\n",
      "15  kqglvcz            AV Setup  14.268937\n",
      "16  uqkctux            AV Setup  14.676703\n",
      "17  ilbaugb             Library  13.275947\n",
      "18  jmkfnbz            AV Setup  13.824317\n",
      "19  xyghurm              Dining  13.477196\n"
     ]
    }
   ],
   "source": [
    "statement = \"SELECT * FROM job_data LIMIT 20;\"\n",
    "selected_data = sqldf(statement, globals())\n",
    "print(selected_data)"
   ]
  },
  {
   "cell_type": "code",
   "execution_count": 4,
   "id": "420216f9-c377-446b-966c-29ee63947134",
   "metadata": {},
   "outputs": [],
   "source": [
    "#How does average GPA compare across Jobs"
   ]
  },
  {
   "cell_type": "code",
   "execution_count": 5,
   "id": "3abd4dc0-14cf-404b-bede-6785838d467f",
   "metadata": {},
   "outputs": [
    {
     "name": "stdout",
     "output_type": "stream",
     "text": [
      "         Name                 Job   GPA\n",
      "0     ubwmyfy  Research Assistant  3.28\n",
      "1     jngzxag             Library  3.04\n",
      "2     dspozch              Dining  3.26\n",
      "3     qhbzaly              Dining  3.50\n",
      "4     zgtfzgw             Library  2.86\n",
      "...       ...                 ...   ...\n",
      "4995  jpgydkj        Tech Support  2.96\n",
      "4996  euakdww  Research Assistant  2.86\n",
      "4997  tzlsvjt  Research Assistant  2.88\n",
      "4998  tyzufhk        Tech Support  2.97\n",
      "4999  vdjvrkg              Dining  3.22\n",
      "\n",
      "[5000 rows x 3 columns]\n"
     ]
    }
   ],
   "source": [
    "statement = \" \\\n",
    "    SELECT S.Name, Job, GPA \\\n",
    "    FROM student_data S \\\n",
    "    INNER JOIN job_data J ON S.Name =J.Name;\"\n",
    "selected_data = sqldf(statement, globals())\n",
    "print(selected_data)"
   ]
  },
  {
   "cell_type": "code",
   "execution_count": 6,
   "id": "c89acd79-8d2b-4116-83b5-be8fa8d2bd73",
   "metadata": {},
   "outputs": [
    {
     "name": "stdout",
     "output_type": "stream",
     "text": [
      "                  Job    AvgGPA\n",
      "0             Library  3.104801\n",
      "1            AV Setup  3.104344\n",
      "2        Tech Support  3.098150\n",
      "3  Research Assistant  3.096170\n",
      "4              Dining  3.094694\n"
     ]
    }
   ],
   "source": [
    "statement = \" \\\n",
    "    SELECT Job, AVG(GPA) as AvgGPA \\\n",
    "    FROM student_data S \\\n",
    "    INNER JOIN job_data J ON S.Name =J.Name \\\n",
    "    GROUP BY Job \\\n",
    "    ORDER BY AvgGPA DESC;\"\n",
    "selected_data = sqldf(statement, globals())\n",
    "print(selected_data)"
   ]
  },
  {
   "cell_type": "code",
   "execution_count": 7,
   "id": "ba10e736-1d26-4b43-b78b-8e3037f5228f",
   "metadata": {},
   "outputs": [
    {
     "name": "stdout",
     "output_type": "stream",
     "text": [
      "                  Major                 Job\n",
      "0      Computer Science                None\n",
      "1           Mathematics                None\n",
      "2               Science                None\n",
      "3             Chemistry                None\n",
      "4               Science  Research Assistant\n",
      "...                 ...                 ...\n",
      "99995           History        Tech Support\n",
      "99996           Physics                None\n",
      "99997           Science              Dining\n",
      "99998           Science                None\n",
      "99999       Mathematics                None\n",
      "\n",
      "[100000 rows x 2 columns]\n"
     ]
    }
   ],
   "source": [
    "#What fraction of each major have jobs\n",
    "\n",
    "#Step 1 Left Join the two tables\n",
    "\n",
    "statement = \" \\\n",
    "    SELECT Major, Job \\\n",
    "    FROM student_data S \\\n",
    "    LEFT JOIN job_data J ON S.Name =J.Name;\"\n",
    "selected_data = sqldf(statement, globals())\n",
    "print(selected_data)"
   ]
  },
  {
   "cell_type": "code",
   "execution_count": 8,
   "id": "7a310994-0d11-4043-bddd-da739bea2d4d",
   "metadata": {},
   "outputs": [
    {
     "name": "stdout",
     "output_type": "stream",
     "text": [
      "              Major  fracwork\n",
      "0               Art  0.052442\n",
      "1           Biology  0.047305\n",
      "2         Chemistry  0.052351\n",
      "3  Computer Science  0.055132\n",
      "4           English  0.050438\n",
      "5           History  0.048429\n",
      "6       Mathematics  0.048004\n",
      "7           Physics  0.046224\n",
      "8           Science  0.051317\n",
      "9         Sociology  0.048414\n"
     ]
    }
   ],
   "source": [
    "#Group the results above my major\n",
    "\n",
    "statement = \" \\\n",
    "    SELECT Major, SUM(CASE WHEN Job IS NOT NULL THEN 1.0 ELSE 0.0 END)/COUNT(*) AS fracwork\\\n",
    "    FROM student_data S \\\n",
    "    LEFT JOIN job_data J ON S.Name =J.Name \\\n",
    "    GROUP BY Major;\"\n",
    "selected_data = sqldf(statement, globals())\n",
    "print(selected_data)"
   ]
  },
  {
   "cell_type": "code",
   "execution_count": 9,
   "id": "b73125af-906c-4f9c-8d4f-f8c1a45a7987",
   "metadata": {},
   "outputs": [
    {
     "name": "stdout",
     "output_type": "stream",
     "text": [
      "              Major  fracwork\n",
      "0  Computer Science  0.055132\n",
      "1               Art  0.052442\n",
      "2         Chemistry  0.052351\n",
      "3           Science  0.051317\n",
      "4           English  0.050438\n"
     ]
    }
   ],
   "source": [
    "#STEP 3 \n",
    "\n",
    "statement = \" \\\n",
    "    SELECT Major, SUM(CASE WHEN Job IS NOT NULL THEN 1.0 ELSE 0.0 END)/COUNT(*) AS fracwork\\\n",
    "    FROM student_data S \\\n",
    "    LEFT JOIN job_data J ON S.Name =J.Name \\\n",
    "    GROUP BY Major \\\n",
    "    HAVING fracwork >= 0.05 \\\n",
    "    ORDER BY fracwork DESC;\"\n",
    "selected_data = sqldf(statement, globals())\n",
    "print(selected_data)"
   ]
  },
  {
   "cell_type": "markdown",
   "id": "e1779854-d43b-4106-90ba-17ca2e827762",
   "metadata": {},
   "source": [
    "SELF JOINS"
   ]
  },
  {
   "cell_type": "code",
   "execution_count": 10,
   "id": "5d1ec94d-9276-47ac-a7f4-27b930ec76c3",
   "metadata": {},
   "outputs": [
    {
     "name": "stdout",
     "output_type": "stream",
     "text": [
      "     Name_1   Name_2     Job_1               Job_2  AbsWageDiff\n",
      "0   mqdunnq  idkjtku  AV Setup              Dining     1.847883\n",
      "1   mqdunnq  adqlfaq  AV Setup              Dining     1.489941\n",
      "2   mqdunnq  kertldy  AV Setup             Library     1.373577\n",
      "3   mqdunnq  pglmruc  AV Setup  Research Assistant     0.522602\n",
      "4   mqdunnq  dhawhti  AV Setup            AV Setup     0.514937\n",
      "5   mqdunnq  aqvdsri  AV Setup  Research Assistant     0.338557\n",
      "6   mqdunnq  eawtcrz  AV Setup             Library     0.930029\n",
      "7   mqdunnq  ccxxtgm  AV Setup  Research Assistant     0.423442\n",
      "8   mqdunnq  tishhry  AV Setup              Dining     1.632992\n",
      "9   mqdunnq  lrpzeww  AV Setup             Library     1.224992\n",
      "10  mqdunnq  uhqqrqo  AV Setup            AV Setup     0.469109\n",
      "11  mqdunnq  xutefkc  AV Setup  Research Assistant     0.739778\n",
      "12  mqdunnq  bapxuxf  AV Setup              Dining     1.943443\n",
      "13  mqdunnq  ajpjwlt  AV Setup             Library     1.256643\n",
      "14  mqdunnq  kqglvcz  AV Setup            AV Setup     0.330629\n",
      "15  mqdunnq  uqkctux  AV Setup            AV Setup     0.077137\n",
      "16  mqdunnq  ilbaugb  AV Setup             Library     1.323619\n",
      "17  mqdunnq  jmkfnbz  AV Setup            AV Setup     0.775249\n",
      "18  mqdunnq  xyghurm  AV Setup              Dining     1.122370\n",
      "19  mqdunnq  kcnlppr  AV Setup        Tech Support     1.734776\n"
     ]
    }
   ],
   "source": [
    "#STEP 1: Perform a SELF JOIN of job table on itself\n",
    "\n",
    "statement = \" \\\n",
    "    SELECT J1.Name AS Name_1, J2.Name AS Name_2, \\\n",
    "    J1.Job AS Job_1, J2.Job AS Job_2, ABS(J1.Wage - J2.Wage) AS AbsWageDiff \\\n",
    "    FROM job_data J1, job_data J2 \\\n",
    "    WHERE J1.Name != J2.Name \\\n",
    "    LIMIT 20;\"\n",
    "\n",
    "selected_data = sqldf(statement, globals())\n",
    "print(selected_data)"
   ]
  },
  {
   "cell_type": "code",
   "execution_count": 11,
   "id": "777b8656-e769-4046-b7ed-2d9965613108",
   "metadata": {},
   "outputs": [
    {
     "name": "stdout",
     "output_type": "stream",
     "text": [
      "   AvgAbsWageDiff\n",
      "0        0.743811\n"
     ]
    }
   ],
   "source": [
    "statement = ' \\\n",
    "    SELECT AVG(ABS(J1.Wage - J2.Wage)) As AvgAbsWageDiff \\\n",
    "    FROM job_data J1, job_data J2 \\\n",
    "    WHERE J1.Name != J2.Name'\n",
    "\n",
    "selected_data = sqldf(statement, globals())\n",
    "print(selected_data)"
   ]
  },
  {
   "cell_type": "code",
   "execution_count": 12,
   "id": "c748338e-c77d-4705-b285-62775b8c5d33",
   "metadata": {},
   "outputs": [],
   "source": [
    "#How does this Wage gap compare to wage gaps within each job?\n"
   ]
  },
  {
   "cell_type": "code",
   "execution_count": 13,
   "id": "2a2c1e87-3254-43c9-bd83-a3303aef5396",
   "metadata": {},
   "outputs": [
    {
     "name": "stdout",
     "output_type": "stream",
     "text": [
      "     Name_1   Name_2       Job  AbsWageDiff\n",
      "0   mqdunnq  aaeyrkt  AV Setup     0.133834\n",
      "1   mqdunnq  aanicag  AV Setup     0.058705\n",
      "2   mqdunnq  aauvbjp  AV Setup     0.469697\n",
      "3   mqdunnq  aaxtays  AV Setup     0.249647\n",
      "4   mqdunnq  abifkbg  AV Setup     0.182585\n",
      "5   mqdunnq  abnlbzh  AV Setup     0.740760\n",
      "6   mqdunnq  acgggms  AV Setup     0.092887\n",
      "7   mqdunnq  adkewai  AV Setup     0.661531\n",
      "8   mqdunnq  adnksoe  AV Setup     0.086576\n",
      "9   mqdunnq  afbyqdy  AV Setup     0.027493\n",
      "10  mqdunnq  afcaony  AV Setup     0.655134\n",
      "11  mqdunnq  afivuvg  AV Setup     0.605403\n",
      "12  mqdunnq  aggwouw  AV Setup     0.698872\n",
      "13  mqdunnq  agipdau  AV Setup     0.094091\n",
      "14  mqdunnq  agvxgtv  AV Setup     0.373764\n",
      "15  mqdunnq  agwxbrz  AV Setup     0.579456\n",
      "16  mqdunnq  ahczjom  AV Setup     0.219237\n",
      "17  mqdunnq  ahwubcs  AV Setup     0.217475\n",
      "18  mqdunnq  ajawltk  AV Setup     0.148661\n",
      "19  mqdunnq  ajfrjyu  AV Setup     0.174177\n"
     ]
    }
   ],
   "source": [
    "statement = ' \\\n",
    "    SELECT J1.Name AS Name_1, J2.Name AS Name_2, J1.Job AS Job, \\\n",
    "        ABS(J1.Wage - J2.Wage) AS AbsWageDiff \\\n",
    "    FROM job_data J1, job_data J2 \\\n",
    "    WHERE J1.Name != J2.Name AND J1.Job = J2.Job \\\n",
    "    LIMIT 20;'\n",
    "\n",
    "selected_data = sqldf(statement, globals())\n",
    "print(selected_data)"
   ]
  },
  {
   "cell_type": "code",
   "execution_count": 14,
   "id": "d04eca94-92d3-44c6-9cf2-1d10f98ceb3e",
   "metadata": {},
   "outputs": [
    {
     "name": "stdout",
     "output_type": "stream",
     "text": [
      "                  Job  AbsWageDiff\n",
      "0            AV Setup     0.133834\n",
      "1              Dining     0.192404\n",
      "2             Library     0.211843\n",
      "3  Research Assistant     0.055638\n",
      "4        Tech Support     0.428913\n"
     ]
    }
   ],
   "source": [
    "statement = ' \\\n",
    "    SELECT J1.Job AS Job, \\\n",
    "        ABS(J1.Wage - J2.Wage) AS AbsWageDiff \\\n",
    "    FROM job_data J1, job_data J2 \\\n",
    "    WHERE J1.Name != J2.Name AND J1.Job = J2.Job \\\n",
    "    GROUP BY J1.Job;'\n",
    "\n",
    "selected_data = sqldf(statement, globals())\n",
    "print(selected_data)"
   ]
  },
  {
   "cell_type": "code",
   "execution_count": null,
   "id": "7c9e85c2-93b9-4876-a0f9-6cee25369679",
   "metadata": {},
   "outputs": [],
   "source": []
  }
 ],
 "metadata": {
  "kernelspec": {
   "display_name": "Python 3",
   "language": "python",
   "name": "python3"
  },
  "language_info": {
   "codemirror_mode": {
    "name": "ipython",
    "version": 3
   },
   "file_extension": ".py",
   "mimetype": "text/x-python",
   "name": "python",
   "nbconvert_exporter": "python",
   "pygments_lexer": "ipython3",
   "version": "3.9.5"
  }
 },
 "nbformat": 4,
 "nbformat_minor": 5
}
