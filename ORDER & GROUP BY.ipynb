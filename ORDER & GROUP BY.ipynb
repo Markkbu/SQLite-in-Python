{
 "cells": [
  {
   "cell_type": "code",
   "execution_count": 1,
   "id": "114556bf-49aa-47d5-815f-2f184cf61484",
   "metadata": {
    "tags": []
   },
   "outputs": [
    {
     "name": "stdout",
     "output_type": "stream",
     "text": [
      "\u001b[33mWARNING: The directory '/home/jovyan/.cache/pip' or its parent directory is not owned or is not writable by the current user. The cache has been disabled. Check the permissions and owner of that directory. If executing pip with sudo, you should use sudo's -H flag.\u001b[0m\n",
      "Requirement already satisfied: pandasql in /opt/conda/lib/python3.9/site-packages (0.7.3)\n",
      "Requirement already satisfied: sqlalchemy in /opt/conda/lib/python3.9/site-packages (from pandasql) (1.4.18)\n",
      "Requirement already satisfied: pandas in /opt/conda/lib/python3.9/site-packages (from pandasql) (1.2.4)\n",
      "Requirement already satisfied: numpy in /opt/conda/lib/python3.9/site-packages (from pandasql) (1.19.5)\n",
      "Requirement already satisfied: python-dateutil>=2.7.3 in /opt/conda/lib/python3.9/site-packages (from pandas->pandasql) (2.8.1)\n",
      "Requirement already satisfied: pytz>=2017.3 in /opt/conda/lib/python3.9/site-packages (from pandas->pandasql) (2021.1)\n",
      "Requirement already satisfied: six>=1.5 in /opt/conda/lib/python3.9/site-packages (from python-dateutil>=2.7.3->pandas->pandasql) (1.16.0)\n",
      "Requirement already satisfied: greenlet!=0.4.17 in /opt/conda/lib/python3.9/site-packages (from sqlalchemy->pandasql) (1.1.0)\n",
      "\u001b[33mWARNING: Running pip as root will break packages and permissions. You should install packages reliably by using venv: https://pip.pypa.io/warnings/venv\u001b[0m\n"
     ]
    }
   ],
   "source": [
    "! pip install pandasql\n",
    "\n",
    "import pandas as pd\n",
    "from pandasql import sqldf\n",
    "from random import choice, random\n",
    "\n",
    "major_choices = ['English', 'Science', 'Mathematics', 'Physics', 'Computer Science', 'History', 'Chemistry', 'Biology', 'Art', 'Sociology']\n",
    "year_choice = [1, 2, 3, 4, 4]\n",
    "\n",
    "major_gpa_avg = {major : random() + 2.5 for major in major_choices}\n",
    "\n",
    "n = 100000\n",
    "\n",
    "names = [''.join([ choice('abcdefghijklmnopqrstuvwxyz') for _ in range(7) ]) for _ in range(n)]\n",
    "majors = [choice(major_choices) for _ in range(n)]\n",
    "gpas = [min(major_gpa_avg[m] + random()/4.0, 4.0) for m in majors]\n",
    "years = [choice(year_choice) for _ in range(n)]\n",
    "\n",
    "student_data = pd.DataFrame( data = zip(names, gpas, majors, years), columns=['Name', 'GPA', 'Major', 'Year'] )\n",
    "\n",
    "student_data['GPA'] = student_data.GPA.round(2)"
   ]
  },
  {
   "cell_type": "code",
   "execution_count": 2,
   "id": "9fefe66e-5fa9-4ad3-864c-1270154b62a7",
   "metadata": {},
   "outputs": [
    {
     "name": "stdout",
     "output_type": "stream",
     "text": [
      "       Name   GPA Major  Year\n",
      "0   tbelpfj  3.66   Art     3\n",
      "1   masjcil  3.51   Art     4\n",
      "2   onnobnj  3.63   Art     4\n",
      "3   wokpjhs  3.71   Art     3\n",
      "4   yatjyac  3.70   Art     3\n",
      "5   kqsmrkj  3.63   Art     1\n",
      "6   roxihor  3.60   Art     2\n",
      "7   axbqudp  3.73   Art     3\n",
      "8   hyocwwa  3.50   Art     4\n",
      "9   ufpdmti  3.50   Art     4\n",
      "10  gysbrtl  3.52   Art     1\n",
      "11  gmnxmsf  3.52   Art     4\n",
      "12  uziqldq  3.50   Art     1\n",
      "13  esthgff  3.72   Art     2\n",
      "14  kyxgsjg  3.61   Art     3\n",
      "15  sweugma  3.56   Art     2\n",
      "16  aqsxodp  3.57   Art     4\n",
      "17  bnxrhzv  3.50   Art     1\n",
      "18  ggqqlwt  3.55   Art     3\n",
      "19  xrmpotd  3.72   Art     1\n"
     ]
    }
   ],
   "source": [
    "statement = \"SELECT * FROM student_data ORDER BY Major Limit 20;\"\n",
    "selected_data = sqldf(statement, globals())\n",
    "print(selected_data)"
   ]
  },
  {
   "cell_type": "code",
   "execution_count": 3,
   "id": "c617ddaa-0bae-4133-b424-4b02af4d9c84",
   "metadata": {},
   "outputs": [
    {
     "name": "stdout",
     "output_type": "stream",
     "text": [
      "       Name   GPA      Major  Year\n",
      "0   hekhpec  2.82  Sociology     4\n",
      "1   rijpyoy  2.68  Sociology     1\n",
      "2   plganxy  2.83  Sociology     4\n",
      "3   avtnuvn  2.70  Sociology     2\n",
      "4   ljkjann  2.79  Sociology     3\n",
      "5   gzjetom  2.76  Sociology     3\n",
      "6   siadggl  2.76  Sociology     2\n",
      "7   kutonwd  2.78  Sociology     3\n",
      "8   kfwqbod  2.64  Sociology     4\n",
      "9   aotlkuz  2.83  Sociology     4\n",
      "10  wpnhalf  2.65  Sociology     2\n",
      "11  xyrrqzf  2.78  Sociology     1\n",
      "12  fgngefr  2.70  Sociology     4\n",
      "13  ryxjwus  2.80  Sociology     3\n",
      "14  jdadvdb  2.72  Sociology     4\n",
      "15  nocyyie  2.71  Sociology     3\n",
      "16  btnppbj  2.77  Sociology     4\n",
      "17  nnnpqyn  2.70  Sociology     3\n",
      "18  nmvanac  2.72  Sociology     2\n",
      "19  efelehz  2.66  Sociology     4\n"
     ]
    }
   ],
   "source": [
    "statement = \"SELECT * FROM student_data ORDER BY Major DESC LIMIT 20;\"\n",
    "selected_data = sqldf(statement, globals())\n",
    "print(selected_data)"
   ]
  },
  {
   "cell_type": "code",
   "execution_count": 4,
   "id": "5173720a-59de-468e-8a5f-1bd00861d96c",
   "metadata": {},
   "outputs": [
    {
     "name": "stdout",
     "output_type": "stream",
     "text": [
      "          Name   GPA      Major  Year\n",
      "0      masjcil  3.51        Art     4\n",
      "1      onnobnj  3.63        Art     4\n",
      "2      hyocwwa  3.50        Art     4\n",
      "3      ufpdmti  3.50        Art     4\n",
      "4      gmnxmsf  3.52        Art     4\n",
      "...        ...   ...        ...   ...\n",
      "99995  zebzpgp  2.68  Sociology     1\n",
      "99996  mnanray  2.66  Sociology     1\n",
      "99997  fqofdsq  2.81  Sociology     1\n",
      "99998  fshznbd  2.66  Sociology     1\n",
      "99999  xflluwy  2.63  Sociology     1\n",
      "\n",
      "[100000 rows x 4 columns]\n"
     ]
    }
   ],
   "source": [
    "statement = \"SELECT * FROM student_data ORDER BY Major, Year DESC;\"\n",
    "selected_data = sqldf(statement, globals())\n",
    "print(selected_data)"
   ]
  },
  {
   "cell_type": "code",
   "execution_count": 5,
   "id": "5ec41760-2266-4464-8d0e-d98efe267f3d",
   "metadata": {},
   "outputs": [
    {
     "name": "stdout",
     "output_type": "stream",
     "text": [
      "              Major    AvgGPA\n",
      "0               Art  3.611142\n",
      "1           Biology  3.002875\n",
      "2         Chemistry  3.001141\n",
      "3  Computer Science  2.644006\n",
      "4           English  3.374307\n",
      "5           History  3.293843\n",
      "6       Mathematics  3.477675\n",
      "7           Physics  3.503188\n",
      "8           Science  2.633813\n",
      "9         Sociology  2.732133\n"
     ]
    }
   ],
   "source": [
    "statement = \"SELECT Major, Avg(GPA) as AvgGPA FROM student_data GROUP BY Major;\"\n",
    "selected_data = sqldf(statement, globals())\n",
    "print(selected_data)"
   ]
  },
  {
   "cell_type": "code",
   "execution_count": 6,
   "id": "0ccaed1c-0911-4c35-85b0-98f73e76a6ae",
   "metadata": {},
   "outputs": [
    {
     "name": "stdout",
     "output_type": "stream",
     "text": [
      "              Major  MinGPA\n",
      "0               Art    3.49\n",
      "1           Biology    2.88\n",
      "2         Chemistry    2.88\n",
      "3  Computer Science    2.52\n",
      "4           English    3.25\n",
      "5           History    3.17\n",
      "6       Mathematics    3.35\n",
      "7           Physics    3.38\n",
      "8           Science    2.51\n",
      "9         Sociology    2.61\n"
     ]
    }
   ],
   "source": [
    "statement = \"SELECT Major, MIN(GPA) as MinGPA FROM student_data WHERE Year = 3 GROUP BY Major;\"\n",
    "selected_data = sqldf(statement, globals())\n",
    "print(selected_data)"
   ]
  },
  {
   "cell_type": "code",
   "execution_count": 7,
   "id": "cbe766fe-b4c7-4631-9723-4495fea518d8",
   "metadata": {},
   "outputs": [
    {
     "name": "stdout",
     "output_type": "stream",
     "text": [
      "               Major  Year    AvgGPA\n",
      "0                Art     3  3.610145\n",
      "1                Art     4  3.613953\n",
      "2            Biology     3  3.001687\n",
      "3            Biology     4  3.002830\n",
      "4          Chemistry     3  2.999527\n",
      "5          Chemistry     4  3.003019\n",
      "6   Computer Science     3  2.644552\n",
      "7   Computer Science     4  2.644120\n",
      "8            English     3  3.376197\n",
      "9            English     4  3.374515\n",
      "10           History     3  3.294803\n",
      "11           History     4  3.292507\n",
      "12       Mathematics     3  3.478296\n",
      "13       Mathematics     4  3.475920\n",
      "14           Physics     3  3.503335\n",
      "15           Physics     4  3.502725\n",
      "16           Science     3  2.632500\n",
      "17           Science     4  2.633963\n",
      "18         Sociology     3  2.730601\n",
      "19         Sociology     4  2.732836\n"
     ]
    }
   ],
   "source": [
    "statement = \"SELECT Major, Year, AVG(GPA) as AvgGPA FROM student_data WHERE Year >= 3 GROUP BY Major, Year;\"\n",
    "selected_data = sqldf(statement, globals())\n",
    "print(selected_data)"
   ]
  },
  {
   "cell_type": "code",
   "execution_count": 9,
   "id": "32300f00-46f6-4a84-a7ff-a5af23c5924f",
   "metadata": {},
   "outputs": [
    {
     "name": "stdout",
     "output_type": "stream",
     "text": [
      "   FirstLetter  AVG(GPA)\n",
      "0            a  3.121215\n",
      "1            b  3.124809\n",
      "2            c  3.138337\n",
      "3            d  3.136054\n",
      "4            e  3.119924\n",
      "5            f  3.121698\n",
      "6            g  3.120863\n",
      "7            h  3.130439\n",
      "8            i  3.132341\n",
      "9            j  3.121496\n",
      "10           k  3.118708\n",
      "11           l  3.125628\n",
      "12           m  3.123522\n",
      "13           n  3.126259\n",
      "14           o  3.135863\n",
      "15           p  3.120087\n",
      "16           q  3.133075\n",
      "17           r  3.124462\n",
      "18           s  3.129701\n",
      "19           t  3.120087\n",
      "20           u  3.126866\n",
      "21           v  3.122729\n",
      "22           w  3.122514\n",
      "23           x  3.126672\n",
      "24           y  3.122603\n",
      "25           z  3.133454\n"
     ]
    }
   ],
   "source": [
    "statement = \"SELECT SUBSTR(Name, 1, 1) as FirstLetter, AVG(GPA) FROM student_data GROUP BY FirstLetter;\"\n",
    "selected_data = sqldf(statement, globals())\n",
    "print(selected_data)"
   ]
  },
  {
   "cell_type": "code",
   "execution_count": null,
   "id": "b13b831d-a337-494d-9ff3-1145e6cbebfa",
   "metadata": {},
   "outputs": [],
   "source": []
  }
 ],
 "metadata": {
  "kernelspec": {
   "display_name": "Python 3",
   "language": "python",
   "name": "python3"
  },
  "language_info": {
   "codemirror_mode": {
    "name": "ipython",
    "version": 3
   },
   "file_extension": ".py",
   "mimetype": "text/x-python",
   "name": "python",
   "nbconvert_exporter": "python",
   "pygments_lexer": "ipython3",
   "version": "3.9.5"
  }
 },
 "nbformat": 4,
 "nbformat_minor": 5
}
