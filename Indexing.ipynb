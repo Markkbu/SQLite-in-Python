{
 "cells": [
  {
   "cell_type": "markdown",
   "id": "0b685f3d-a3fb-4fb8-a46f-735fff9707ce",
   "metadata": {},
   "source": [
    "# __INDEXING__"
   ]
  },
  {
   "cell_type": "code",
   "execution_count": null,
   "id": "ae7decfe-c959-43a6-b0b5-41c770a97969",
   "metadata": {},
   "outputs": [],
   "source": []
  }
 ],
 "metadata": {
  "kernelspec": {
   "display_name": "Python 3",
   "language": "python",
   "name": "python3"
  },
  "language_info": {
   "codemirror_mode": {
    "name": "ipython",
    "version": 3
   },
   "file_extension": ".py",
   "mimetype": "text/x-python",
   "name": "python",
   "nbconvert_exporter": "python",
   "pygments_lexer": "ipython3",
   "version": "3.9.5"
  }
 },
 "nbformat": 4,
 "nbformat_minor": 5
}
