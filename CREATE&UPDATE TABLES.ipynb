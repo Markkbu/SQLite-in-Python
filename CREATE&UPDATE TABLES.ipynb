{
 "cells": [
  {
   "cell_type": "code",
   "execution_count": null,
   "id": "1c47c5ed-1a87-49bb-b966-2269ecc082da",
   "metadata": {
    "gradient": {
     "editing": false,
     "execution_count": 1,
     "id": "1c47c5ed-1a87-49bb-b966-2269ecc082da",
     "kernelId": "758df4d5-9491-4947-8f4e-b9156f25b84d"
    }
   },
   "outputs": [],
   "source": [
    "import sqlite3\n",
    "import pandas as pd"
   ]
  },
  {
   "cell_type": "code",
   "execution_count": null,
   "id": "8ad76598-2caa-4eab-884f-51cedb81c821",
   "metadata": {
    "gradient": {
     "editing": false,
     "execution_count": 2,
     "id": "8ad76598-2caa-4eab-884f-51cedb81c821",
     "kernelId": "758df4d5-9491-4947-8f4e-b9156f25b84d"
    }
   },
   "outputs": [],
   "source": [
    "conn = sqlite3.connect('students.db')\n",
    "cur = conn.cursor()"
   ]
  },
  {
   "cell_type": "code",
   "execution_count": null,
   "id": "eaec1dd0-8066-4cad-b96d-592f84e857d6",
   "metadata": {
    "gradient": {
     "editing": false,
     "execution_count": 3,
     "id": "eaec1dd0-8066-4cad-b96d-592f84e857d6",
     "kernelId": "758df4d5-9491-4947-8f4e-b9156f25b84d"
    }
   },
   "outputs": [],
   "source": [
    "def display_as_table(data, headers):\n",
    "    df = pd.DataFrame(data=data, columns=[i[0] for i in headers])\n",
    "    return df"
   ]
  },
  {
   "cell_type": "code",
   "execution_count": null,
   "id": "5ea951f3-aa02-40fe-a2a0-b1578c4754dc",
   "metadata": {
    "gradient": {
     "editing": false,
     "execution_count": 4,
     "id": "5ea951f3-aa02-40fe-a2a0-b1578c4754dc",
     "kernelId": "758df4d5-9491-4947-8f4e-b9156f25b84d"
    }
   },
   "outputs": [
    {
     "ename": "OperationalError",
     "evalue": "table Students_1 already exists",
     "output_type": "error",
     "traceback": [
      "\u001b[0;31m---------------------------------------------------------------------------\u001b[0m",
      "\u001b[0;31mOperationalError\u001b[0m                          Traceback (most recent call last)",
      "\u001b[0;32m<ipython-input-4-e31609164e67>\u001b[0m in \u001b[0;36m<module>\u001b[0;34m\u001b[0m\n\u001b[0;32m----> 1\u001b[0;31m \u001b[0mcur\u001b[0m\u001b[0;34m.\u001b[0m\u001b[0mexecute\u001b[0m\u001b[0;34m(\u001b[0m\u001b[0;34m\"CREATE TABLE Students_1 (Name varchar(255), GPA float, Major varchar(255), Year integer)\"\u001b[0m\u001b[0;34m)\u001b[0m\u001b[0;34m\u001b[0m\u001b[0;34m\u001b[0m\u001b[0m\n\u001b[0m",
      "\u001b[0;31mOperationalError\u001b[0m: table Students_1 already exists"
     ]
    }
   ],
   "source": [
    "cur.execute(\"CREATE TABLE Students_1 (Name varchar(255), GPA float, Major varchar(255), Year integer)\")"
   ]
  },
  {
   "cell_type": "code",
   "execution_count": null,
   "id": "57d19fdb-873b-4494-8d9d-866fcad967c1",
   "metadata": {
    "gradient": {
     "editing": false,
     "id": "57d19fdb-873b-4494-8d9d-866fcad967c1",
     "kernelId": "758df4d5-9491-4947-8f4e-b9156f25b84d"
    }
   },
   "outputs": [],
   "source": [
    "cur.execute(\"SELECT * FROM Students_1\")\n",
    "display_as_table(cur.fetchall(),cur.description)"
   ]
  },
  {
   "cell_type": "code",
   "execution_count": null,
   "id": "02231e59-6162-488a-b25f-576e3246c5ee",
   "metadata": {
    "gradient": {
     "editing": false,
     "id": "02231e59-6162-488a-b25f-576e3246c5ee",
     "kernelId": "758df4d5-9491-4947-8f4e-b9156f25b84d"
    }
   },
   "outputs": [],
   "source": [
    "#Create a table from another table"
   ]
  },
  {
   "cell_type": "code",
   "execution_count": null,
   "id": "7213cf0c-b0cf-4d94-a9cd-24ca3c8db449",
   "metadata": {
    "gradient": {
     "editing": false,
     "id": "7213cf0c-b0cf-4d94-a9cd-24ca3c8db449",
     "kernelId": "758df4d5-9491-4947-8f4e-b9156f25b84d"
    },
    "tags": []
   },
   "outputs": [],
   "source": [
    "cur.execute('''INSERT INTO Students_1 VALUES\n",
    "    ('Yoda', 3.8, 'Math', 3),\n",
    "    ('Vader', 2.8, 'Math', 1),\n",
    "    ('Rey', 3.9, 'Physics', 2),\n",
    "    ('Kylo', 2.9, 'History', 3),\n",
    "    ('Snoke', 3.5, 'Art', 4),\n",
    "    ('Finn', 3.2, 'Art', 3),\n",
    "    ('Han', 3.7, 'Math', 2),\n",
    "    ('Luke', 3.0, 'History', 1)''')"
   ]
  },
  {
   "cell_type": "code",
   "execution_count": null,
   "id": "fc230a15-2ebb-4d2c-b6c8-7eff59e4ea6e",
   "metadata": {
    "gradient": {
     "editing": false,
     "id": "fc230a15-2ebb-4d2c-b6c8-7eff59e4ea6e",
     "kernelId": "758df4d5-9491-4947-8f4e-b9156f25b84d"
    }
   },
   "outputs": [],
   "source": [
    "cur.execute(\"CREATE TABLE NewStudents as SELECT * FROM Students_1\")"
   ]
  },
  {
   "cell_type": "code",
   "execution_count": null,
   "id": "8956476d-b214-41ff-822a-9637899a9ca7",
   "metadata": {
    "gradient": {
     "editing": false,
     "id": "8956476d-b214-41ff-822a-9637899a9ca7",
     "kernelId": "758df4d5-9491-4947-8f4e-b9156f25b84d"
    }
   },
   "outputs": [],
   "source": [
    "cur.execute(\"SELECT * FROM NewStudents\")"
   ]
  },
  {
   "cell_type": "code",
   "execution_count": null,
   "id": "ff308be0-2371-4857-b64a-0f4e153db5b3",
   "metadata": {
    "gradient": {
     "editing": false,
     "id": "ff308be0-2371-4857-b64a-0f4e153db5b3",
     "kernelId": "758df4d5-9491-4947-8f4e-b9156f25b84d"
    }
   },
   "outputs": [],
   "source": [
    "display_as_table(cur.fetchall(),cur.description)"
   ]
  },
  {
   "cell_type": "code",
   "execution_count": null,
   "id": "35bac7f3-6953-4558-b0f9-0d43af025dd0",
   "metadata": {
    "gradient": {
     "id": "35bac7f3-6953-4558-b0f9-0d43af025dd0",
     "kernelId": "758df4d5-9491-4947-8f4e-b9156f25b84d"
    },
    "tags": []
   },
   "outputs": [],
   "source": [
    "cur.execute(\"CREATE TABLE NewStudents_2 AS SELECT * FROM NewStudents WHERE 1=2\")"
   ]
  },
  {
   "cell_type": "code",
   "execution_count": null,
   "id": "39a2b2b6-c3d3-46d2-a9dc-05734a5c99ec",
   "metadata": {
    "gradient": {
     "id": "39a2b2b6-c3d3-46d2-a9dc-05734a5c99ec",
     "kernelId": "758df4d5-9491-4947-8f4e-b9156f25b84d"
    }
   },
   "outputs": [],
   "source": [
    "cur.execute(\"SELECT * FROM NewStudents_2\")\n",
    "display_as_table(cur.fetchall(),cur.description)"
   ]
  },
  {
   "cell_type": "code",
   "execution_count": null,
   "id": "7250dcd1-b888-41a6-9089-e1e65ae9664b",
   "metadata": {
    "gradient": {
     "id": "7250dcd1-b888-41a6-9089-e1e65ae9664b",
     "kernelId": "758df4d5-9491-4947-8f4e-b9156f25b84d"
    }
   },
   "outputs": [],
   "source": [
    "#Add a column to the database\n",
    "cur.execute(\"ALTER TABLE Students ADD COLUMN InState bit(1)\")"
   ]
  },
  {
   "cell_type": "code",
   "execution_count": null,
   "id": "c7ccc9c5-91a6-452a-a8b3-a728b1220c8b",
   "metadata": {
    "gradient": {
     "id": "c7ccc9c5-91a6-452a-a8b3-a728b1220c8b",
     "kernelId": "758df4d5-9491-4947-8f4e-b9156f25b84d"
    }
   },
   "outputs": [],
   "source": [
    "cur.execute(\"SELECT * FROM Students\")\n",
    "display_as_table(cur.fetchall(),cur.description)"
   ]
  },
  {
   "cell_type": "code",
   "execution_count": null,
   "id": "d4af0885-baaa-4598-8f7c-21ad97ab5f1d",
   "metadata": {
    "gradient": {
     "id": "d4af0885-baaa-4598-8f7c-21ad97ab5f1d",
     "kernelId": "758df4d5-9491-4947-8f4e-b9156f25b84d"
    }
   },
   "outputs": [],
   "source": [
    "#Rename Table\n",
    "\n",
    "cur.execute(\"ALTER TABLE Students RENAME to StudentData\")"
   ]
  },
  {
   "cell_type": "code",
   "execution_count": null,
   "id": "a15ed966-02da-4351-8b2c-6d12433d3eec",
   "metadata": {
    "gradient": {
     "id": "a15ed966-02da-4351-8b2c-6d12433d3eec",
     "kernelId": "758df4d5-9491-4947-8f4e-b9156f25b84d"
    }
   },
   "outputs": [],
   "source": [
    "cur.execute(\"SELECT * FROM StudentData\")\n",
    "display_as_table(cur.fetchall(),cur.description)"
   ]
  },
  {
   "cell_type": "code",
   "execution_count": null,
   "id": "668f78c3-c046-4b05-946d-7762a98ffc5b",
   "metadata": {
    "gradient": {
     "id": "668f78c3-c046-4b05-946d-7762a98ffc5b",
     "kernelId": "758df4d5-9491-4947-8f4e-b9156f25b84d"
    }
   },
   "outputs": [],
   "source": [
    "#Some SQL environments will allow one to Drop a column"
   ]
  },
  {
   "cell_type": "code",
   "execution_count": null,
   "id": "3ec7961e-c4ed-4e40-a024-89608ba63f25",
   "metadata": {
    "gradient": {
     "id": "3ec7961e-c4ed-4e40-a024-89608ba63f25",
     "kernelId": "758df4d5-9491-4947-8f4e-b9156f25b84d"
    }
   },
   "outputs": [],
   "source": [
    "#Drop Table"
   ]
  },
  {
   "cell_type": "code",
   "execution_count": null,
   "id": "051365ff-1ac1-45e8-8bb6-4fcf6ff4d2e3",
   "metadata": {
    "gradient": {
     "id": "051365ff-1ac1-45e8-8bb6-4fcf6ff4d2e3",
     "kernelId": "758df4d5-9491-4947-8f4e-b9156f25b84d"
    }
   },
   "outputs": [],
   "source": []
  }
 ],
 "metadata": {
  "kernelspec": {
   "display_name": "Python 3",
   "language": "python",
   "name": "python3"
  },
  "language_info": {
   "codemirror_mode": {
    "name": "ipython",
    "version": 3
   },
   "file_extension": ".py",
   "mimetype": "text/x-python",
   "name": "python",
   "nbconvert_exporter": "python",
   "pygments_lexer": "ipython3",
   "version": "3.9.5"
  }
 },
 "nbformat": 4,
 "nbformat_minor": 5
}
